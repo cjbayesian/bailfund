{
 "cells": [
  {
   "cell_type": "code",
   "execution_count": 3,
   "metadata": {
    "collapsed": false
   },
   "outputs": [
    {
     "name": "stdout",
     "output_type": "stream",
     "text": [
      "Populating the interactive namespace from numpy and matplotlib\n"
     ]
    }
   ],
   "source": [
    "%pylab inline"
   ]
  },
  {
   "cell_type": "markdown",
   "metadata": {},
   "source": [
    "`source activate bailfund`\n",
    "\n",
    "To fetch dockets in backgrounded batches:\n",
    "\n",
    "```bash\n",
    "./spawn_batches.sh 42 48 1000 2013 ./batches.sh\n",
    "```\n",
    "\n",
    "To fetch summaries in backgrounded batches:\n",
    "```bash\n",
    "./spawn_batches.sh 42 48 1000 2013 ./batches_summaries.sh\n",
    "```\n",
    "\n",
    "http://www.legis.state.pa.us/WU01/LI/LI/CT/htm/18/18.htm\n",
    "\n",
    "https://papers.ssrn.com/sol3/papers.cfm?abstract_id=2777615\n"
   ]
  },
  {
   "cell_type": "code",
   "execution_count": 4,
   "metadata": {
    "collapsed": false
   },
   "outputs": [],
   "source": [
    "import pandas as pd\n",
    "import re\n",
    "import os\n",
    "import subprocess"
   ]
  },
  {
   "cell_type": "code",
   "execution_count": 5,
   "metadata": {
    "collapsed": false
   },
   "outputs": [
    {
     "name": "stdout",
     "output_type": "stream",
     "text": [
      "/Users/cchivers/proj/bailfund/dockets\n"
     ]
    }
   ],
   "source": [
    "cd dockets/"
   ]
  },
  {
   "cell_type": "code",
   "execution_count": 6,
   "metadata": {
    "collapsed": true
   },
   "outputs": [],
   "source": [
    "fnames = [f for f in os.listdir('./') if f.endswith('.txt')]"
   ]
  },
  {
   "cell_type": "code",
   "execution_count": 17,
   "metadata": {
    "collapsed": false
   },
   "outputs": [
    {
     "data": {
      "text/plain": [
       "['0000001-2010.txt',\n",
       " '0000001-2012.txt',\n",
       " '0000001-2013.txt',\n",
       " '0000001-2014.txt',\n",
       " '0000001-2015.txt',\n",
       " '0000001-2016.txt',\n",
       " '0000002-2010.txt',\n",
       " '0000002-2014.txt',\n",
       " '0000002-2015.txt',\n",
       " '0000002-2016.txt']"
      ]
     },
     "execution_count": 17,
     "metadata": {},
     "output_type": "execute_result"
    }
   ],
   "source": [
    "fnames[:10]"
   ]
  },
  {
   "cell_type": "code",
   "execution_count": 18,
   "metadata": {
    "collapsed": false
   },
   "outputs": [
    {
     "data": {
      "text/plain": [
       "15744"
      ]
     },
     "execution_count": 18,
     "metadata": {},
     "output_type": "execute_result"
    }
   ],
   "source": [
    "f2018 = [f for f in fnames if '2018.txt' in f]\n",
    "len(f2018)"
   ]
  },
  {
   "cell_type": "code",
   "execution_count": 19,
   "metadata": {
    "collapsed": false
   },
   "outputs": [
    {
     "data": {
      "text/plain": [
       "16173"
      ]
     },
     "execution_count": 19,
     "metadata": {},
     "output_type": "execute_result"
    }
   ],
   "source": [
    "max([int(f.split('-')[0]) for f in f2018])"
   ]
  },
  {
   "cell_type": "code",
   "execution_count": 21,
   "metadata": {
    "collapsed": false
   },
   "outputs": [],
   "source": [
    "#[f for f in f2018 if re.match('001[0123456].*-2018.txt',f)]"
   ]
  },
  {
   "cell_type": "code",
   "execution_count": 22,
   "metadata": {
    "collapsed": false
   },
   "outputs": [
    {
     "name": "stdout",
     "output_type": "stream",
     "text": [
      "5978\n"
     ]
    },
    {
     "data": {
      "text/plain": [
       "['0016164-2018.txt',\n",
       " '0016165-2018.txt',\n",
       " '0016166-2018.txt',\n",
       " '0016167-2018.txt',\n",
       " '0016168-2018.txt',\n",
       " '0016169-2018.txt',\n",
       " '0016170-2018.txt',\n",
       " '0016171-2018.txt',\n",
       " '0016172-2018.txt',\n",
       " '0016173-2018.txt']"
      ]
     },
     "execution_count": 22,
     "metadata": {},
     "output_type": "execute_result"
    }
   ],
   "source": [
    "bfanal = [f for f in f2018 if re.match('001[0123456].*-2018.txt',f)]\n",
    "bfanal = [f for f in bfanal if os.stat(f).st_size>0]\n",
    "print(len(bfanal))\n",
    "bfanal[-10:]"
   ]
  },
  {
   "cell_type": "code",
   "execution_count": 18,
   "metadata": {
    "collapsed": false
   },
   "outputs": [
    {
     "name": "stdout",
     "output_type": "stream",
     "text": [
      "0% complete\n",
      "10% complete\n",
      "20% complete\n",
      "30% complete\n",
      "40% complete\n",
      "50% complete\n",
      "60% complete\n",
      "70% complete\n",
      "80% complete\n",
      "90% complete\n",
      "100% complete\n"
     ]
    }
   ],
   "source": [
    "n_files = len(bfanal)\n",
    "for i,f in enumerate(bfanal):\n",
    "    if (i % int(n_files/10)) == 0:\n",
    "        print(\"{0:.0%} complete\".format(i/n_files))\n",
    "    bashCommand = 'cp '+ f + ' ../compressed_dockets/'\n",
    "    process = subprocess.Popen(bashCommand.split(), stdout=subprocess.PIPE)\n",
    "    output, error = process.communicate()"
   ]
  },
  {
   "cell_type": "code",
   "execution_count": 8,
   "metadata": {
    "collapsed": false
   },
   "outputs": [
    {
     "data": {
      "text/plain": [
       "['0004001-2018.pdf',\n",
       " '0004002-2018.pdf',\n",
       " '0004003-2018.pdf',\n",
       " '0004004-2018.pdf',\n",
       " '0004005-2018.pdf',\n",
       " '0004006-2018.pdf',\n",
       " '0004007-2018.pdf',\n",
       " '0004008-2018.pdf',\n",
       " '0004009-2018.pdf',\n",
       " '0004010-2018.pdf']"
      ]
     },
     "execution_count": 8,
     "metadata": {},
     "output_type": "execute_result"
    }
   ],
   "source": [
    "f2018[:10]"
   ]
  },
  {
   "cell_type": "code",
   "execution_count": 7,
   "metadata": {
    "collapsed": false
   },
   "outputs": [
    {
     "data": {
      "text/plain": [
       "3"
      ]
     },
     "execution_count": 7,
     "metadata": {},
     "output_type": "execute_result"
    }
   ],
   "source": [
    "fnames = [f for f in os.listdir('./') if f.endswith('.pdf')]\n",
    "txt_names = [f for f in os.listdir('./') if f.endswith('.txt')]\n",
    "\n",
    "f_roots = [f[:-4] for f in fnames]\n",
    "t_roots = [f[:-4] for f in txt_names]\n",
    "f_roots = list(set(f_roots) - set(t_roots))\n",
    "fnames = [f+'.pdf' for f in f_roots]\n",
    "fnames = [f for f in fnames if os.stat(f).st_size>0]\n",
    "len(fnames)"
   ]
  },
  {
   "cell_type": "code",
   "execution_count": 8,
   "metadata": {
    "collapsed": false,
    "scrolled": true
   },
   "outputs": [
    {
     "ename": "ZeroDivisionError",
     "evalue": "integer division or modulo by zero",
     "output_type": "error",
     "traceback": [
      "\u001b[0;31m---------------------------------------------------------------------------\u001b[0m",
      "\u001b[0;31mZeroDivisionError\u001b[0m                         Traceback (most recent call last)",
      "\u001b[0;32m<ipython-input-8-b558966c1b45>\u001b[0m in \u001b[0;36m<module>\u001b[0;34m()\u001b[0m\n\u001b[1;32m      1\u001b[0m \u001b[0mn_files\u001b[0m \u001b[0;34m=\u001b[0m \u001b[0mlen\u001b[0m\u001b[0;34m(\u001b[0m\u001b[0mfnames\u001b[0m\u001b[0;34m)\u001b[0m\u001b[0;34m\u001b[0m\u001b[0m\n\u001b[1;32m      2\u001b[0m \u001b[0;32mfor\u001b[0m \u001b[0mi\u001b[0m\u001b[0;34m,\u001b[0m\u001b[0mf\u001b[0m \u001b[0;32min\u001b[0m \u001b[0menumerate\u001b[0m\u001b[0;34m(\u001b[0m\u001b[0mfnames\u001b[0m\u001b[0;34m)\u001b[0m\u001b[0;34m:\u001b[0m\u001b[0;34m\u001b[0m\u001b[0m\n\u001b[0;32m----> 3\u001b[0;31m     \u001b[0;32mif\u001b[0m \u001b[0;34m(\u001b[0m\u001b[0mi\u001b[0m \u001b[0;34m%\u001b[0m \u001b[0mint\u001b[0m\u001b[0;34m(\u001b[0m\u001b[0mn_files\u001b[0m\u001b[0;34m/\u001b[0m\u001b[0;36m10\u001b[0m\u001b[0;34m)\u001b[0m\u001b[0;34m)\u001b[0m \u001b[0;34m==\u001b[0m \u001b[0;36m0\u001b[0m\u001b[0;34m:\u001b[0m\u001b[0;34m\u001b[0m\u001b[0m\n\u001b[0m\u001b[1;32m      4\u001b[0m         \u001b[0mprint\u001b[0m\u001b[0;34m(\u001b[0m\u001b[0;34m\"{0:.0%} complete\"\u001b[0m\u001b[0;34m.\u001b[0m\u001b[0mformat\u001b[0m\u001b[0;34m(\u001b[0m\u001b[0mi\u001b[0m\u001b[0;34m/\u001b[0m\u001b[0mn_files\u001b[0m\u001b[0;34m)\u001b[0m\u001b[0;34m)\u001b[0m\u001b[0;34m\u001b[0m\u001b[0m\n\u001b[1;32m      5\u001b[0m     \u001b[0mbashCommand\u001b[0m \u001b[0;34m=\u001b[0m \u001b[0;34m'pdftotext '\u001b[0m\u001b[0;34m+\u001b[0m \u001b[0mf\u001b[0m\u001b[0;34m\u001b[0m\u001b[0m\n",
      "\u001b[0;31mZeroDivisionError\u001b[0m: integer division or modulo by zero"
     ]
    }
   ],
   "source": [
    "n_files = len(fnames)\n",
    "for i,f in enumerate(fnames):\n",
    "    if (i % int(n_files/10)) == 0:\n",
    "        print(\"{0:.0%} complete\".format(i/n_files))\n",
    "    bashCommand = 'pdftotext '+ f\n",
    "    process = subprocess.Popen(bashCommand.split(), stdout=subprocess.PIPE)\n",
    "    output, error = process.communicate()"
   ]
  },
  {
   "cell_type": "code",
   "execution_count": 9,
   "metadata": {
    "collapsed": false,
    "scrolled": true
   },
   "outputs": [
    {
     "name": "stdout",
     "output_type": "stream",
     "text": [
      "Extractinng 57950 dockets\n",
      "0% complete\n",
      "10% complete\n",
      "20% complete\n",
      "30% complete\n",
      "40% complete\n",
      "50% complete\n",
      "60% complete\n",
      "70% complete\n",
      "80% complete\n",
      "90% complete\n"
     ]
    }
   ],
   "source": [
    "def get_colonic(lines, pre_colonic):\n",
    "    ao = [l for l in lines if pre_colonic in l]\n",
    "    key = pre_colonic[:-1]\n",
    "    if len(ao) == 0:\n",
    "        return {key:''}\n",
    "    res = ao[0].split(': ')\n",
    "    if len(res) > 1:\n",
    "        res = res[-1].rstrip()\n",
    "    else:\n",
    "        res = ''\n",
    "    return {key: res}\n",
    "\n",
    "colonics = ['OTN:','Arresting Officer:','Date Filed:','Initiation Date:','Originating Docket No:',\n",
    "            'Arresting Agency:','Cross Court Docket Nos:','Docket Number:','Nebbia Status:','Printed:']\n",
    "\n",
    "def get_defendant(lines):\n",
    "    idx = [i for i,l in enumerate(lines) if 'CASE INFORMATION' in l]\n",
    "    return {'Defendant': lines[idx[0]-1].rstrip()}\n",
    "    \n",
    "def get_all_colonics(lines):\n",
    "    res = {}\n",
    "    for colonic in colonics:\n",
    "        res.update(get_colonic(lines, colonic))\n",
    "    return res\n",
    "\n",
    "def get_all_charges(lines):\n",
    "    all_charges = list(set([re.sub('[ (\\n)]','',l) for i,l in enumerate(lines) if ('§' in l)]))\n",
    "    return {'Charges': all_charges}\n",
    "\n",
    "def get_bail_amounts(lines):\n",
    "    idx = [i for i,l in enumerate(lines) if ('BAIL INFORMATION' in l) or ('CHARGES' in l)]\n",
    "    if len(idx) < 2:\n",
    "        return {'Bail': []}\n",
    "    start_idx, end_idx = idx[0], idx[-1]\n",
    "    amounts = [l.rstrip() for l in lines[start_idx:end_idx] if '$' in l]\n",
    "    return {'Bail': amounts}\n",
    "\n",
    "def get_magistrate(lines):\n",
    "    idx = [i for i,l in enumerate(lines) if ('Arraignment Court Magistrate' in l)]\n",
    "    res = ''\n",
    "    if len(idx) > 0:\n",
    "        res = lines[idx[0]+1].rstrip()\n",
    "    return {'Arraignment Court Magistrate': res}\n",
    "\n",
    "def get_arraignment_date(lines):\n",
    "    prelim = False\n",
    "    res = {'Arraignment Date': ''}\n",
    "    for i,l in enumerate(lines):\n",
    "        if prelim and l.rstrip() == 'Arraignment':\n",
    "            idx = i\n",
    "            res = {'Arraignment Date': lines[idx+2].rstrip() + ' ' + lines[idx+4].rstrip()}\n",
    "            break\n",
    "        prelim = False\n",
    "        if l.rstrip() == 'Preliminary':\n",
    "            prelim = True\n",
    "    return res\n",
    "\n",
    "#fnames = [f for f in os.listdir('./') if f.endswith('.txt')]\n",
    "fnames = [f for f in os.listdir('./') if f.endswith('2018.txt') or f.endswith('2017.txt')]\n",
    "n_files = len(fnames)\n",
    "res_list = []\n",
    "print('Extractinng {} dockets'.format(n_files))\n",
    "for i,fname in enumerate(fnames):\n",
    "    if (i % int(n_files/10)) == 0:\n",
    "        print(\"{0:.0%} complete\".format(i/n_files))\n",
    "    with open(fname,'r') as f:\n",
    "        lines = f.readlines()\n",
    "    res = {'fname': fname}\n",
    "    res.update(get_all_charges(lines))\n",
    "    res.update(get_all_colonics(lines))\n",
    "    res.update(get_defendant(lines))\n",
    "    res.update(get_bail_amounts(lines))\n",
    "    res.update(get_magistrate(lines))\n",
    "    res.update(get_arraignment_date(lines))\n",
    "    res_list.append(res)\n",
    "\n",
    "res_df = pd.DataFrame(res_list)"
   ]
  },
  {
   "cell_type": "code",
   "execution_count": 10,
   "metadata": {
    "collapsed": false
   },
   "outputs": [
    {
     "data": {
      "text/html": [
       "<div>\n",
       "<table border=\"1\" class=\"dataframe\">\n",
       "  <thead>\n",
       "    <tr style=\"text-align: right;\">\n",
       "      <th></th>\n",
       "      <th>Arraignment Court Magistrate</th>\n",
       "      <th>Arraignment Date</th>\n",
       "      <th>Arresting Agency</th>\n",
       "      <th>Arresting Officer</th>\n",
       "      <th>Bail</th>\n",
       "      <th>Charges</th>\n",
       "      <th>Cross Court Docket Nos</th>\n",
       "      <th>Date Filed</th>\n",
       "      <th>Defendant</th>\n",
       "      <th>Docket Number</th>\n",
       "      <th>Initiation Date</th>\n",
       "      <th>Nebbia Status</th>\n",
       "      <th>OTN</th>\n",
       "      <th>Originating Docket No</th>\n",
       "      <th>Printed</th>\n",
       "      <th>fname</th>\n",
       "    </tr>\n",
       "  </thead>\n",
       "  <tbody>\n",
       "    <tr>\n",
       "      <th>0</th>\n",
       "      <td></td>\n",
       "      <td>02/11/2018 5:46 pm</td>\n",
       "      <td>Philadelphia Pd</td>\n",
       "      <td>Rauchut, Joseph</td>\n",
       "      <td>[$0.00]</td>\n",
       "      <td>[35§780-113]</td>\n",
       "      <td></td>\n",
       "      <td>02/11/2018</td>\n",
       "      <td>Calvin D. Gambrell</td>\n",
       "      <td>MC-51-CR-0004001-2018</td>\n",
       "      <td>02/11/2018</td>\n",
       "      <td>None</td>\n",
       "      <td>U 112353-3</td>\n",
       "      <td>1825010713-0004001</td>\n",
       "      <td>06/23/2018</td>\n",
       "      <td>0004001-2018.txt</td>\n",
       "    </tr>\n",
       "    <tr>\n",
       "      <th>1</th>\n",
       "      <td></td>\n",
       "      <td>02/11/2018 5:47 pm</td>\n",
       "      <td>Philadelphia Pd</td>\n",
       "      <td>Banks, Isaiah</td>\n",
       "      <td>[$0.00]</td>\n",
       "      <td>[18§3925§§A, 18§3928§§A]</td>\n",
       "      <td></td>\n",
       "      <td>02/11/2018</td>\n",
       "      <td>KEVIN SMITH</td>\n",
       "      <td>MC-51-CR-0004002-2018</td>\n",
       "      <td>02/11/2018</td>\n",
       "      <td>None</td>\n",
       "      <td>U 112425-5</td>\n",
       "      <td>1826005585-0004002</td>\n",
       "      <td>06/23/2018</td>\n",
       "      <td>0004002-2018.txt</td>\n",
       "    </tr>\n",
       "    <tr>\n",
       "      <th>2</th>\n",
       "      <td></td>\n",
       "      <td>02/11/2018 5:52 pm</td>\n",
       "      <td>Philadelphia Pd</td>\n",
       "      <td>Smerechanskyy, Andriy</td>\n",
       "      <td>[$0.00]</td>\n",
       "      <td>[75§3802]</td>\n",
       "      <td></td>\n",
       "      <td>02/11/2018</td>\n",
       "      <td>BAYRON RAMIREZ</td>\n",
       "      <td>MC-51-CR-0004003-2018</td>\n",
       "      <td>02/11/2018</td>\n",
       "      <td>None</td>\n",
       "      <td>U 112422-2</td>\n",
       "      <td>1826005982-0004003</td>\n",
       "      <td>06/23/2018</td>\n",
       "      <td>0004003-2018.txt</td>\n",
       "    </tr>\n",
       "    <tr>\n",
       "      <th>3</th>\n",
       "      <td></td>\n",
       "      <td>02/11/2018 6:01 pm</td>\n",
       "      <td>Philadelphia Pd</td>\n",
       "      <td>Wagner, James Jr.</td>\n",
       "      <td>[$5,000.00, $5,000.00, $25,000.00]</td>\n",
       "      <td>[18§3304§§A4, 18§3921§§A, 18§3502§§A4, 18§3503...</td>\n",
       "      <td>CP-51-CR-0002660-2018</td>\n",
       "      <td>02/11/2018</td>\n",
       "      <td>Keith Faison</td>\n",
       "      <td>MC-51-CR-0004004-2018</td>\n",
       "      <td>02/11/2018</td>\n",
       "      <td>None</td>\n",
       "      <td>U 112429-2</td>\n",
       "      <td>1814012850-0004004</td>\n",
       "      <td>06/23/2018</td>\n",
       "      <td>0004004-2018.txt</td>\n",
       "    </tr>\n",
       "    <tr>\n",
       "      <th>4</th>\n",
       "      <td></td>\n",
       "      <td>02/11/2018 5:54 pm</td>\n",
       "      <td>Philadelphia Pd</td>\n",
       "      <td>Marchetti, Marc A.</td>\n",
       "      <td>[$100,000.00]</td>\n",
       "      <td>[18§6105§§A1, 18§903§§C, 18§6106§§A1, 35§780-1...</td>\n",
       "      <td>CP-51-CR-0002492-2018</td>\n",
       "      <td>02/11/2018</td>\n",
       "      <td>Breanna Ferguson</td>\n",
       "      <td>MC-51-CR-0004005-2018</td>\n",
       "      <td>02/11/2018</td>\n",
       "      <td>None</td>\n",
       "      <td>U 112427-0</td>\n",
       "      <td>1812010133-0004005</td>\n",
       "      <td>06/23/2018</td>\n",
       "      <td>0004005-2018.txt</td>\n",
       "    </tr>\n",
       "  </tbody>\n",
       "</table>\n",
       "</div>"
      ],
      "text/plain": [
       "  Arraignment Court Magistrate    Arraignment Date Arresting Agency  \\\n",
       "0                               02/11/2018 5:46 pm  Philadelphia Pd   \n",
       "1                               02/11/2018 5:47 pm  Philadelphia Pd   \n",
       "2                               02/11/2018 5:52 pm  Philadelphia Pd   \n",
       "3                               02/11/2018 6:01 pm  Philadelphia Pd   \n",
       "4                               02/11/2018 5:54 pm  Philadelphia Pd   \n",
       "\n",
       "       Arresting Officer                                Bail  \\\n",
       "0        Rauchut, Joseph                             [$0.00]   \n",
       "1          Banks, Isaiah                             [$0.00]   \n",
       "2  Smerechanskyy, Andriy                             [$0.00]   \n",
       "3      Wagner, James Jr.  [$5,000.00, $5,000.00, $25,000.00]   \n",
       "4     Marchetti, Marc A.                       [$100,000.00]   \n",
       "\n",
       "                                             Charges Cross Court Docket Nos  \\\n",
       "0                                       [35§780-113]                          \n",
       "1                           [18§3925§§A, 18§3928§§A]                          \n",
       "2                                          [75§3802]                          \n",
       "3  [18§3304§§A4, 18§3921§§A, 18§3502§§A4, 18§3503...  CP-51-CR-0002660-2018   \n",
       "4  [18§6105§§A1, 18§903§§C, 18§6106§§A1, 35§780-1...  CP-51-CR-0002492-2018   \n",
       "\n",
       "   Date Filed           Defendant          Docket Number Initiation Date  \\\n",
       "0  02/11/2018  Calvin D. Gambrell  MC-51-CR-0004001-2018      02/11/2018   \n",
       "1  02/11/2018         KEVIN SMITH  MC-51-CR-0004002-2018      02/11/2018   \n",
       "2  02/11/2018      BAYRON RAMIREZ  MC-51-CR-0004003-2018      02/11/2018   \n",
       "3  02/11/2018        Keith Faison  MC-51-CR-0004004-2018      02/11/2018   \n",
       "4  02/11/2018    Breanna Ferguson  MC-51-CR-0004005-2018      02/11/2018   \n",
       "\n",
       "  Nebbia Status         OTN Originating Docket No     Printed  \\\n",
       "0          None  U 112353-3    1825010713-0004001  06/23/2018   \n",
       "1          None  U 112425-5    1826005585-0004002  06/23/2018   \n",
       "2          None  U 112422-2    1826005982-0004003  06/23/2018   \n",
       "3          None  U 112429-2    1814012850-0004004  06/23/2018   \n",
       "4          None  U 112427-0    1812010133-0004005  06/23/2018   \n",
       "\n",
       "              fname  \n",
       "0  0004001-2018.txt  \n",
       "1  0004002-2018.txt  \n",
       "2  0004003-2018.txt  \n",
       "3  0004004-2018.txt  \n",
       "4  0004005-2018.txt  "
      ]
     },
     "execution_count": 10,
     "metadata": {},
     "output_type": "execute_result"
    }
   ],
   "source": [
    "res_df.head()"
   ]
  },
  {
   "cell_type": "code",
   "execution_count": 11,
   "metadata": {
    "collapsed": false,
    "scrolled": true
   },
   "outputs": [],
   "source": [
    "res_df['Date Filed'] = pd.to_datetime(res_df['Date Filed'])\n",
    "#res_df['Arraignment Date'] = pd.to_datetime(res_df['Arraignment Date'])\n",
    "#res_df['Initiation Date'] = pd.to_datetime(res_df['Initiation Date'])\n",
    "#res_df.shape"
   ]
  },
  {
   "cell_type": "code",
   "execution_count": 12,
   "metadata": {
    "collapsed": false
   },
   "outputs": [],
   "source": [
    "res_df['Docket ID'] = res_df['Docket Number'].apply(lambda x: x.split('-')[3])\n",
    "res_df['Docket Year'] = res_df['Docket Number'].apply(lambda x: x.split('-')[4])"
   ]
  },
  {
   "cell_type": "code",
   "execution_count": 13,
   "metadata": {
    "collapsed": true
   },
   "outputs": [],
   "source": [
    "res_df.to_clipboard()"
   ]
  },
  {
   "cell_type": "code",
   "execution_count": 14,
   "metadata": {
    "collapsed": true
   },
   "outputs": [],
   "source": [
    "res_df.to_csv('../2018_docket_extracts.csv',index=False)"
   ]
  },
  {
   "cell_type": "code",
   "execution_count": 11,
   "metadata": {
    "collapsed": false
   },
   "outputs": [],
   "source": [
    "# tmp = res_df[res_df['Docket Year'] == '2016']\n",
    "# tmp['Docket ID'].astype(int).sort_values().head(10)"
   ]
  },
  {
   "cell_type": "code",
   "execution_count": 31,
   "metadata": {
    "collapsed": false,
    "scrolled": false
   },
   "outputs": [
    {
     "name": "stdout",
     "output_type": "stream",
     "text": [
      "0022252 2018\n",
      "2018-01-01 00:00:00 2018-08-29 00:00:00\n"
     ]
    },
    {
     "data": {
      "image/png": "[encoded data removed]",
      "text/plain": [
       "<matplotlib.figure.Figure at 0x118fb5e80>"
      ]
     },
     "metadata": {},
     "output_type": "display_data"
    }
   ],
   "source": [
    "for year in res_df['Docket Year'].unique():\n",
    "    tmp = res_df[res_df['Docket Year'] == year]\n",
    "    print(tmp['Docket ID'].max(),year)\n",
    "    print(tmp['Date Filed'][tmp['Docket ID'].argmin()], tmp['Date Filed'][tmp['Docket ID'].argmax()])\n",
    "    fig, ax = plt.subplots(1,1)\n",
    "    ax.plot(tmp['Docket ID'].astype(int).sort_values().values,'.')\n",
    "    ax.set_title(year)"
   ]
  },
  {
   "cell_type": "code",
   "execution_count": 32,
   "metadata": {
    "collapsed": false
   },
   "outputs": [],
   "source": [
    "dockets = res_df.sort_values(['Defendant',\n",
    "                              'Date Filed']).drop_duplicates(['Defendant',\n",
    "                                                                    'Date Filed'],keep='last')"
   ]
  },
  {
   "cell_type": "code",
   "execution_count": 33,
   "metadata": {
    "collapsed": false
   },
   "outputs": [
    {
     "data": {
      "text/plain": [
       "(19601, 18)"
      ]
     },
     "execution_count": 33,
     "metadata": {},
     "output_type": "execute_result"
    }
   ],
   "source": [
    "dockets.shape"
   ]
  },
  {
   "cell_type": "code",
   "execution_count": 34,
   "metadata": {
    "collapsed": false
   },
   "outputs": [
    {
     "data": {
      "text/html": [
       "<div>\n",
       "<table border=\"1\" class=\"dataframe\">\n",
       "  <thead>\n",
       "    <tr style=\"text-align: right;\">\n",
       "      <th></th>\n",
       "      <th>count</th>\n",
       "    </tr>\n",
       "    <tr>\n",
       "      <th>Date Filed</th>\n",
       "      <th></th>\n",
       "    </tr>\n",
       "  </thead>\n",
       "  <tbody>\n",
       "    <tr>\n",
       "      <th>2018-01-01</th>\n",
       "      <td>50</td>\n",
       "    </tr>\n",
       "    <tr>\n",
       "      <th>2018-01-02</th>\n",
       "      <td>58</td>\n",
       "    </tr>\n",
       "    <tr>\n",
       "      <th>2018-01-03</th>\n",
       "      <td>85</td>\n",
       "    </tr>\n",
       "    <tr>\n",
       "      <th>2018-01-04</th>\n",
       "      <td>89</td>\n",
       "    </tr>\n",
       "    <tr>\n",
       "      <th>2018-01-05</th>\n",
       "      <td>34</td>\n",
       "    </tr>\n",
       "  </tbody>\n",
       "</table>\n",
       "</div>"
      ],
      "text/plain": [
       "            count\n",
       "Date Filed       \n",
       "2018-01-01     50\n",
       "2018-01-02     58\n",
       "2018-01-03     85\n",
       "2018-01-04     89\n",
       "2018-01-05     34"
      ]
     },
     "execution_count": 34,
     "metadata": {},
     "output_type": "execute_result"
    }
   ],
   "source": [
    "dockets['count'] = 1\n",
    "ts = dockets.set_index('Date Filed').resample('1d').sum().fillna(0)\n",
    "ts.head()"
   ]
  },
  {
   "cell_type": "code",
   "execution_count": 35,
   "metadata": {
    "collapsed": false
   },
   "outputs": [
    {
     "data": {
      "text/plain": [
       "(Timestamp('2018-01-01 00:00:00', freq='D'),\n",
       " Timestamp('2018-08-29 00:00:00', freq='D'))"
      ]
     },
     "execution_count": 35,
     "metadata": {},
     "output_type": "execute_result"
    }
   ],
   "source": [
    "ts.index.min(), ts.index.max(), "
   ]
  },
  {
   "cell_type": "code",
   "execution_count": 36,
   "metadata": {
    "collapsed": false
   },
   "outputs": [
    {
     "data": {
      "text/plain": [
       "(32, 156)"
      ]
     },
     "execution_count": 36,
     "metadata": {},
     "output_type": "execute_result"
    }
   ],
   "source": [
    "ts['count'].min(), ts['count'].max()"
   ]
  },
  {
   "cell_type": "code",
   "execution_count": 37,
   "metadata": {
    "collapsed": false
   },
   "outputs": [
    {
     "data": {
      "image/png": "[encoded data removed]",
      "text/plain": [
       "<matplotlib.figure.Figure at 0x11cd1ec88>"
      ]
     },
     "metadata": {},
     "output_type": "display_data"
    }
   ],
   "source": [
    "ts = ts[ts.index > datetime.datetime(2012,1,1)]\n",
    "fig, ax = plt.subplots(1,1,figsize=(25,2))\n",
    "ax.plot(ts['count'])\n",
    "fig.autofmt_xdate()"
   ]
  },
  {
   "cell_type": "code",
   "execution_count": null,
   "metadata": {
    "collapsed": true
   },
   "outputs": [],
   "source": []
  },
  {
   "cell_type": "code",
   "execution_count": null,
   "metadata": {
    "collapsed": true
   },
   "outputs": [],
   "source": []
  },
  {
   "cell_type": "code",
   "execution_count": null,
   "metadata": {
    "collapsed": true
   },
   "outputs": [],
   "source": []
  },
  {
   "cell_type": "code",
   "execution_count": null,
   "metadata": {
    "collapsed": true
   },
   "outputs": [],
   "source": []
  },
  {
   "cell_type": "code",
   "execution_count": null,
   "metadata": {
    "collapsed": true
   },
   "outputs": [],
   "source": []
  },
  {
   "cell_type": "code",
   "execution_count": null,
   "metadata": {
    "collapsed": true
   },
   "outputs": [],
   "source": []
  },
  {
   "cell_type": "code",
   "execution_count": null,
   "metadata": {
    "collapsed": true
   },
   "outputs": [],
   "source": []
  },
  {
   "cell_type": "code",
   "execution_count": null,
   "metadata": {
    "collapsed": true
   },
   "outputs": [],
   "source": []
  },
  {
   "cell_type": "code",
   "execution_count": null,
   "metadata": {
    "collapsed": true
   },
   "outputs": [],
   "source": []
  },
  {
   "cell_type": "code",
   "execution_count": 17,
   "metadata": {
    "collapsed": false,
    "scrolled": true
   },
   "outputs": [
    {
     "data": {
      "text/plain": [
       "AFFIANT                   605\n",
       "MCCAULEY, JOSEPH J.       137\n",
       "CEREBE, KATHALEEN V.      116\n",
       "WATSON, DUANE A.          102\n",
       "KILLMAN, ROBERT A.         93\n",
       "BANNING, PATRICK           87\n",
       "PROSS, ERIK D.             87\n",
       "BALMER, JAMES M.           65\n",
       "SCHWEIZER, SCOTT           62\n",
       "CESPEDES, BENJAMIN R.      59\n",
       "RIVERA, RICHARD            48\n",
       "REILLY, JAMES M.           48\n",
       "FLYNN, RYAN J.             48\n",
       "LOMBARDI, MICHAEL A.       43\n",
       "FITZGERALD, THOMAS         42\n",
       "ARMSTEAD, TYRIC D.         38\n",
       "WHITE, KEITH M.            32\n",
       "OUTTERBRIDGE, BRYAN        29\n",
       "RIVERA, ERIC               28\n",
       "LALLY, MATTHEW P.          27\n",
       "SCHAFFLING, THOMAS A.      27\n",
       "HARRON, CHARLES M. III     27\n",
       "ELLIS, JOHN J.             26\n",
       "LOGAN, GERALD D. III       25\n",
       "SCOTT, JAMES W. JR.        24\n",
       "RODRIGUEZ, VICTOR          24\n",
       "ROBERSTON, MICHAEL         23\n",
       "HARRIS, STEVEN             23\n",
       "CURRAN, JAMES J. III       22\n",
       "FLOYD, MELVIN R.           21\n",
       "                         ... \n",
       "LE, TRANG                   1\n",
       "PEREZ, TIFFANY              1\n",
       "POWELL, KEVIN B.            1\n",
       "OUTLAW, MICHAEL R.          1\n",
       "DAVIS, HUGH F. JR.          1\n",
       "CARR, MICHAEL               1\n",
       "JORDAN, ROSALIND            1\n",
       "BURNETT, SABRINA A.         1\n",
       "NEWELL, BRIAN               1\n",
       "CAMPBELL, LAWRENCE J.       1\n",
       "RIEHL, PHILIP III           1\n",
       "BROUS, SCOTT A.             1\n",
       "DRISSEL, SCOTT K. JR.       1\n",
       "FIORENTINO, ALFRED J.       1\n",
       "JOYCE, WILLIAM J.           1\n",
       "HENRY, STEPHEN              1\n",
       "MAHER, TIMOTHY P.           1\n",
       "GALLAGHER, JOSEPH III       1\n",
       "TRUITT, ADRIAN              1\n",
       "MASSI, JOHN J. JR.          1\n",
       "SEMET, JOHN P.              1\n",
       "WOMER, ADAM                 1\n",
       "RAMIREZ, JOHN M.            1\n",
       "MARANO, DONALD J.           1\n",
       "COLEMAN, BRIAN K.           1\n",
       "REYES, GABRIEL              1\n",
       "CORDERO, LUIS N.            1\n",
       "GRAY, RICHARD L.            1\n",
       "DESCHER, JOHN III           1\n",
       "KOMADA, MICHAEL S.          1\n",
       "Name: Arresting Officer, dtype: int64"
      ]
     },
     "execution_count": 17,
     "metadata": {},
     "output_type": "execute_result"
    }
   ],
   "source": [
    "res_df['Arresting Officer'].apply(lambda x: x.upper()).value_counts()"
   ]
  },
  {
   "cell_type": "code",
   "execution_count": 18,
   "metadata": {
    "collapsed": false
   },
   "outputs": [
    {
     "data": {
      "text/plain": [
       "$0.00                                                                                                        3935\n",
       "$5,000.00                                                                                                    1678\n",
       "$2,500.00                                                                                                    1030\n",
       "$10,000.00                                                                                                    813\n",
       "$50,000.00                                                                                                    584\n",
       "$25,000.00                                                                                                    496\n",
       "$1,000.00                                                                                                     380\n",
       "$15,000.00                                                                                                    375\n",
       "$1,500.00                                                                                                     373\n",
       "$7,500.00                                                                                                     311\n",
       "$100,000.00                                                                                                   297\n",
       "$75,000.00                                                                                                    227\n",
       "$150,000.00                                                                                                   221\n",
       "$20,000.00                                                                                                    217\n",
       "$3,000.00                                                                                                     169\n",
       "$250,000.00                                                                                                   164\n",
       "$300.00                                                                                                       129\n",
       "$3,500.00                                                                                                     122\n",
       "$6,700.00                                                                                                     115\n",
       "$200,000.00                                                                                                    99\n",
       "$12,000.00                                                                                                     97\n",
       "$3,700.00                                                                                                      93\n",
       "$500,000.00                                                                                                    92\n",
       "$2,000.00                                                                                                      81\n",
       "$35,000.00                                                                                                     69\n",
       "$30,000.00                                                                                                     63\n",
       "$500.00                                                                                                        60\n",
       "$4,000.00                                                                                                      60\n",
       "$8,000.00                                                                                                      52\n",
       "$350,000.00                                                                                                    39\n",
       "                                                                                                             ... \n",
       "$14,000.00                                                                                                      1\n",
       "$1,300.00                                                                                                       1\n",
       "$36,000.00                                                                                                      1\n",
       "$10,600.00                                                                                                      1\n",
       "$7,500 MONETARY, 10%, JUDGE ORDERED BAIL $7,500 SOB                                                             1\n",
       "$5,600.00                                                                                                       1\n",
       "Defendant Bail Increased To Seventy Thousand Dollars ($70,000).                                                 1\n",
       "$28,000.00                                                                                                      1\n",
       "PAY $600 RESTITUTION.                                                                                           1\n",
       "$20,300.00                                                                                                      1\n",
       "$2500 filed.                                                                                                    1\n",
       "$3,300.00                                                                                                       1\n",
       "$6,300.00                                                                                                       1\n",
       "$2,800.00                                                                                                       1\n",
       "$35,400.00                                                                                                      1\n",
       "$75,300.00                                                                                                      1\n",
       "$700,000.00                                                                                                     1\n",
       "$140,000.00                                                                                                     1\n",
       "Remand to Municipal Court. Oral 1013. Defense motion to reduce bail is GRANTED. Bail lowered to $12,000 ,       1\n",
       "$85,000.00                                                                                                      1\n",
       "PAY $600 RESTITUTION. WAIVE FORMAL ARRAIGNMENT, PLED NOT GUILTY. ADJUDGED GUILTY OF 3934.                       1\n",
       "and $1000 fine within probation period. Alcohol highway safety school. Drug and alcohol evaluation.             1\n",
       "BAIL IS MODIFIED TO MONETARY IN THE AMOUNT OF$1,000.00 AT 10%.                                                  1\n",
       "Bail motion is heard and GRANTED: Bail increased by $300 to the amount of $5300.                                1\n",
       "To pay such fine as has been imposed. $1,500.00                                                                 1\n",
       "$249,000.00                                                                                                     1\n",
       "BAIL REDUCED TO $5,000 MONETARY, 10%                                                                            1\n",
       "Defendant to pay $300.00 fine.                                                                                  1\n",
       "Bail set at $300 , 10%                                                                                          1\n",
       "$3,500,000.00                                                                                                   1\n",
       "dtype: int64"
      ]
     },
     "execution_count": 18,
     "metadata": {},
     "output_type": "execute_result"
    }
   ],
   "source": [
    "all_bail = []\n",
    "first_bail = []\n",
    "for b in res_df['Bail'].values:\n",
    "    all_bail.extend(b)\n",
    "    if len(b)>0:\n",
    "        first_bail.append(b[0])\n",
    "pd.Series(all_bail).value_counts()"
   ]
  },
  {
   "cell_type": "code",
   "execution_count": 19,
   "metadata": {
    "collapsed": false
   },
   "outputs": [],
   "source": [
    "import numpy as np"
   ]
  },
  {
   "cell_type": "code",
   "execution_count": 20,
   "metadata": {
    "collapsed": false
   },
   "outputs": [
    {
     "data": {
      "text/plain": [
       "0.0           3557\n",
       "5000.0        1025\n",
       "2500.0         574\n",
       "10000.0        548\n",
       "50000.0        385\n",
       "25000.0        313\n",
       "1500.0         241\n",
       "15000.0        240\n",
       "1000.0         230\n",
       "100000.0       194\n",
       "150000.0       168\n",
       "7500.0         154\n",
       "20000.0        146\n",
       "75000.0        144\n",
       "250000.0       126\n",
       "3000.0         101\n",
       "200000.0        79\n",
       "500000.0        74\n",
       "6700.0          72\n",
       "3500.0          71\n",
       "12000.0         60\n",
       "3700.0          60\n",
       "4000.0          47\n",
       "2000.0          47\n",
       "500.0           46\n",
       "35000.0         41\n",
       "350000.0        37\n",
       "8000.0          32\n",
       "300000.0        30\n",
       "6000.0          27\n",
       "              ... \n",
       "300.0           15\n",
       "22500.0         11\n",
       "60000.0         11\n",
       "125000.0         8\n",
       "40000.0          8\n",
       "10000000.0       8\n",
       "400000.0         8\n",
       "9000.0           6\n",
       "1500000.0        5\n",
       "175000.0         4\n",
       "18000.0          4\n",
       "5000000.0        4\n",
       "450000.0         4\n",
       "7000.0           3\n",
       "600000.0         3\n",
       "900000.0         3\n",
       "45000.0          2\n",
       "120000.0         2\n",
       "12500.0          2\n",
       "2000000.0        2\n",
       "6500.0           2\n",
       "70000.0          1\n",
       "14000.0          1\n",
       "5500.0           1\n",
       "140000.0         1\n",
       "28000.0          1\n",
       "440000.0         1\n",
       "90000.0          1\n",
       "700000.0         1\n",
       "80000.0          1\n",
       "dtype: int64"
      ]
     },
     "execution_count": 20,
     "metadata": {},
     "output_type": "execute_result"
    }
   ],
   "source": [
    "first_bail_series = pd.Series([float(re.sub('[\\$,]','',b)) for b in first_bail])\n",
    "first_bail_series.value_counts()"
   ]
  },
  {
   "cell_type": "code",
   "execution_count": 21,
   "metadata": {
    "collapsed": false
   },
   "outputs": [
    {
     "data": {
      "text/plain": [
       "<matplotlib.axes._subplots.AxesSubplot at 0x1112f7940>"
      ]
     },
     "execution_count": 21,
     "metadata": {},
     "output_type": "execute_result"
    },
    {
     "data": {
      "image/png": "[encoded data removed]",
      "text/plain": [
       "<matplotlib.figure.Figure at 0x1112a76d8>"
      ]
     },
     "metadata": {},
     "output_type": "display_data"
    }
   ],
   "source": [
    "np.log(first_bail_series + 1).hist(bins=50)"
   ]
  },
  {
   "cell_type": "code",
   "execution_count": 22,
   "metadata": {
    "collapsed": false
   },
   "outputs": [
    {
     "data": {
      "text/plain": [
       "10000000.0"
      ]
     },
     "execution_count": 22,
     "metadata": {},
     "output_type": "execute_result"
    }
   ],
   "source": [
    "first_bail_series.max()"
   ]
  },
  {
   "cell_type": "code",
   "execution_count": 23,
   "metadata": {
    "collapsed": false
   },
   "outputs": [
    {
     "data": {
      "text/plain": [
       "array([['$150,000.00', '$30,000.00', '$30,300.00'],\n",
       "       ['$5,000.00', '$5,000.00', '$7,500.00', '$7,500.00', '$7,500.00', '$15,000.00', '$0.00'],\n",
       "       ['$0.00', '$2,500.00', '$2,500.00'],\n",
       "       ['$0.00', '$7,500.00', '$300.00'],\n",
       "       ['$5,000.00', '$5,000.00', '$5,000.00'],\n",
       "       ['$50,000.00', '$100,000.00', '$50,000.00'],\n",
       "       ['$300,000.00', '$200,000.00', '$200,000.00'],\n",
       "       ['$200,000.00', '$10,000.00', '$10,000.00'],\n",
       "       ['$1,500.00', '$1,500.00', '$3,000.00'],\n",
       "       ['$30,000.00', '$30,000.00', '$30,000.00', '$30,000.00', '$50,000.00', '$50,000.00', '$50,000.00', '$150,000.00'],\n",
       "       ['$2,500.00', '$2,500.00', '$5,000.00'],\n",
       "       ['$0.00', '$0.00', '$2,500.00'],\n",
       "       ['$750,000.00', '$200,000.00', '$200,000.00', '$200,000.00'],\n",
       "       ['$6,700.00', '$6,700.00', '$6,700.00'],\n",
       "       ['$1,000.00', '$1,000.00', '$1,000.00'],\n",
       "       ['$1,000.00', '$1,000.00', '$5,000.00'],\n",
       "       ['$0.00', '$1,000.00', '$2,500.00'],\n",
       "       ['$3,500.00', '$3,500.00', '$10,000.00', '$10,000.00', '$5,000.00', '$3,500.00'],\n",
       "       ['$150,000.00', '$75,000.00', '$37,500.00', '$37,500.00'],\n",
       "       ['$10,000.00', '$10,000.00', '$10,000.00', '$10,000.00'],\n",
       "       ['$5,000.00', '$5,000.00', '$5,000.00', '$7,500.00', '$7,500.00', '$10,000.00', '$2,500.00', '$2,500.00', '$2,500.00', '$2,500.00', '$10,000.00'],\n",
       "       ['$5,000.00', '$5,000.00', '$7,500.00', '$7,500.00', '$0.00'],\n",
       "       ['$75,000.00', '$75,000.00', '$75,000.00'],\n",
       "       ['$0.00', '$300.00', '$0.00'], ['$0.00', '$300.00', '$0.00'],\n",
       "       ['$0.00', '$300.00', '$0.00'], ['$0.00', '$2,500.00', '$2,500.00'],\n",
       "       ['$0.00', '$0.00', '$1,000.00'],\n",
       "       ['$6,700.00', '$6,700.00', '$6,700.00'],\n",
       "       ['$2,500.00', '$2,500.00', '$5,000.00', '$0.00'],\n",
       "       ['$20,000.00', '$12,000.00', '$12,000.00'],\n",
       "       ['$6,700.00', '$6,700.00', '$6,700.00', '$6,700.00', '$6,700.00', '$10,000.00'],\n",
       "       ['$5,000.00', '$5,000.00', '$5,000.00'],\n",
       "       ['$2,500.00', '$2,500.00', '$2,500.00', '$2,500.00'],\n",
       "       ['$6,700.00', '$6,700.00', '$6,700.00', '$6,700.00', '$10,000.00', '$10,000.00'],\n",
       "       ['$1,000.00', '$1,000.00', '$2,500.00', '$0.00'],\n",
       "       ['$150,000.00', '$50,000.00', '$50,000.00'],\n",
       "       ['$25,000.00', '$70,000.00', 'Defendant Bail Increased To Seventy Thousand Dollars ($70,000).', 'Assignment of bail assigned to attorney Ronald A Smith, Esq for the amount of $7000 by the defendant Candy'],\n",
       "       ['$200,000.00', '$100,000.00', '$100,000.00'],\n",
       "       ['$50,000.00', '$20,000.00', '$20,000.00'],\n",
       "       ['$0.00', '$0.00', '$0.00', '$0.00', '$5,000.00'],\n",
       "       ['$5,000.00', '$5,000.00', '$0.00', '$10,000.00'],\n",
       "       ['$0.00', '$0.00', '$5,000.00'],\n",
       "       ['$50,000.00', '$50,000.00', '$50,000.00', '$50,000.00'],\n",
       "       ['$25,000.00', '$25,000.00', '$10,000.00'],\n",
       "       ['$2,500.00', '$2,500.00', '$2,500.00', 'and $1000 fine within probation period. Alcohol highway safety school. Drug and alcohol evaluation.'],\n",
       "       ['$5,000.00', '$3,000.00', '$3,000.00'],\n",
       "       ['$5,000.00', '$5,000.00', '$5,000.00', '$5,000.00'],\n",
       "       ['$0.00', '$2,500.00', '$2,500.00'],\n",
       "       ['$5,000.00', '$5,000.00', '$5,000.00', '$5,000.00', '$0.00', '$2,500.00'],\n",
       "       ['$500,000.00', '$100,000.00', '$1.00', '$1.00'],\n",
       "       ['$5,000.00', '$2,000.00', '$2,000.00', '$10,000.00', '$10,000.00', '$300.00'],\n",
       "       ['$0.00', '$2,500.00', '$2,500.00'],\n",
       "       ['$15,000.00', '$15,000.00', '$15,000.00'],\n",
       "       ['$0.00', '$2,500.00', '$2,500.00'],\n",
       "       ['$5,000.00', '$5,000.00', '$5,000.00'],\n",
       "       ['$2,500.00', '$2,500.00', '$0.00', '$2,500.00', '$2,500.00', '$2,500.00', '$2,500.00'],\n",
       "       ['$150,000.00', '$150,000.00', '$300.00'],\n",
       "       ['$1,500.00', '$1,500.00', '$2,500.00'],\n",
       "       ['$1,000.00', '$1,000.00', '$5,000.00', '$0.00'],\n",
       "       ['$15,000.00', '$300.00', '$300.00'],\n",
       "       ['$0.00', '$0.00', '$2,500.00', '$2,500.00'],\n",
       "       ['$0.00', '$0.00', '$1,000.00', '$1,000.00', '$5,000.00', '$5,000.00', '$3,000.00'],\n",
       "       ['$0.00', '$0.00', '$0.00', '$10,000.00'],\n",
       "       ['$6,700.00', '$6,700.00', '$6,700.00', '$5,000.00', '$6,700.00'],\n",
       "       ['$150,000.00', '$100,000.00', '$5,000.00'],\n",
       "       ['$150,000.00', '$100,000.00', '$15,000.00', '$15,000.00'],\n",
       "       ['$150,000.00', '$100,000.00', '$5,000.00'],\n",
       "       ['$150,000.00', '$150,000.00', '$150,000.00'],\n",
       "       ['$2,500.00', '$2,500.00', '$0.00'],\n",
       "       ['$5,000.00', '$5,000.00', '$0.00'],\n",
       "       ['$5,000.00', '$5,300.00', '$5,600.00'],\n",
       "       ['$5,000.00', '$5,000.00', '$7,500.00'],\n",
       "       ['$25,000.00', '$10,000.00', '$10,300.00'],\n",
       "       ['$5,000.00', '$5,000.00', '$7,500.00', '$7,500.00'],\n",
       "       ['$5,000.00', '$5,000.00', '$5,000.00', '$5,000.00'],\n",
       "       ['$2,500.00', '$2,500.00', '$2,500.00', '$2,500.00', '$2,500.00', '$7,500.00', '$7,500.00', '$3,500.00'],\n",
       "       ['$2,500.00', '$2,500.00', '$5,000.00'],\n",
       "       ['$20,000.00', '$20,000.00', '$20,000.00', '$10,000.00'],\n",
       "       ['$0.00', '$0.00', '$10,000.00'],\n",
       "       ['$1,000.00', '$1,000.00', '$0.00'],\n",
       "       ['$100,000.00', '$25,000.00', '$25,000.00'],\n",
       "       ['$25,000.00', '$12,000.00', '$12,000.00', '$12,000.00'],\n",
       "       ['$2,500.00', '$2,500.00', '$2,500.00', '$2,500.00', '$0.00'],\n",
       "       ['$0.00', '$5,000.00', '$5,000.00'],\n",
       "       ['$9,000.00', '$9,000.00', '$9,000.00', '$5,000.00'],\n",
       "       ['$6,700.00', '$6,700.00', '$2,500.00', '$50,000.00'],\n",
       "       ['$2,500.00', '$2,500.00', '$0.00'],\n",
       "       ['$5,000.00', '$5,000.00', '$5,000.00'],\n",
       "       ['$3,000.00', '$3,000.00', '$3,000.00'],\n",
       "       ['$5,000.00', '$5,000.00', '$5,000.00'],\n",
       "       ['$10,000.00', '$10,000.00', '$10,000.00', '$10,000.00'],\n",
       "       ['$20,000.00', '$20,000.00', '$20,000.00'],\n",
       "       ['$0.00', '$1,500.00', '$1,500.00', '$5,000.00', '$5,000.00'],\n",
       "       ['$15,000.00', '$15,000.00', '$15,000.00'],\n",
       "       ['$15,000.00', '$15,000.00', '$15,000.00'],\n",
       "       ['$25,000.00', '$25,000.00', '$300.00'],\n",
       "       ['$50,000.00', '$22,500.00', '$22,500.00'],\n",
       "       ['$5,000.00', '$5,000.00', '$5,000.00'],\n",
       "       ['$0.00', '$1,000.00', '$1,000.00'],\n",
       "       ['$10,000.00', '$10,000.00', '$10,000.00', '$10,000.00'],\n",
       "       ['$75,000.00', '$30,000.00', '$30,000.00'],\n",
       "       ['$7,000.00', '$7,000.00', '$7,000.00', '$7,000.00'],\n",
       "       ['$2,500.00', '$2,500.00', '$2,500.00', '$2,500.00', '$0.00'],\n",
       "       ['$7,000.00', '$7,000.00', '$7,000.00', '$10,000.00', '$10,000.00', '$1,500.00', '$1,500.00'],\n",
       "       ['$2,500.00', '$2,500.00', '$7,500.00', '$7,500.00', '$0.00', '$7,500.00', '$4,000.00'],\n",
       "       ['$0.00', '$0.00', '$0.00'],\n",
       "       ['$5,000.00', '$5,000.00', '$5,000.00'],\n",
       "       ['$2,500.00', '$2,500.00', '$2,500.00', '$10,000.00'],\n",
       "       ['$5,000.00', '$10,000.00', '$10,000.00', '$1,500.00', '$1,500.00', '$2,500.00', '$2,500.00', '$5,000.00', '$5,000.00', '$2,500.00', '$5,000.00'],\n",
       "       ['$5,000.00', '$5,000.00', '$5,000.00', '$10,000.00', '$10,000.00', '$1,500.00'],\n",
       "       ['$5,000.00', '$5,000.00', '$5,000.00', '$5,000.00'],\n",
       "       ['$2,500.00', '$2,500.00', '$5,000.00', '$5,000.00'],\n",
       "       ['$25,000.00', '$25,000.00', '$25,000.00', '$5,000.00'],\n",
       "       ['$0.00', '$2,500.00', '$2,500.00', '$5,000.00'],\n",
       "       ['$150,000.00', '$25,000.00', '$25,000.00'],\n",
       "       ['$1,000,000.00', '$1,000,000.00', '$1,000,000.00'],\n",
       "       ['$2,500.00', '$2,500.00', '$1,000.00', '$1,000.00', '$1,000.00', '$7,500.00', '$0.00', '$7,500.00'],\n",
       "       ['$0.00', '$2,500.00', '$2,500.00'],\n",
       "       ['$5,000.00', '$5,000.00', '$5,000.00', '$5,000.00'],\n",
       "       ['$5,000.00', '$5,000.00', '$5,000.00'],\n",
       "       ['$1,000,000.00', '$500,000.00', '$500,000.00'],\n",
       "       ['$2,500.00', '$5,000.00', '$5,000.00', '$2,500.00', '$0.00'],\n",
       "       ['$1,000,000.00', '$500,000.00', '$500,000.00'],\n",
       "       ['$5,000.00', '$5,000.00', '$5,000.00'],\n",
       "       ['$0.00', '$300.00', '$300.00'],\n",
       "       ['$2,500.00', '$2,500.00', '$5,000.00', '$5,000.00', '$5,000.00', '$5,000.00'],\n",
       "       ['$2,500.00', '$2,500.00', '$2,500.00', '$2,500.00', '$2,500.00', '$2,500.00', '$2,500.00', '$2,500.00', '$1,000.00'],\n",
       "       ['$2,500.00', '$2,500.00', '$5,000.00', '$10,000.00', '$5,000.00', '$10,000.00'],\n",
       "       ['$1,000,000.00', '$500,000.00', '$500,000.00'],\n",
       "       ['$1,000.00', '$1,000.00', '$0.00'],\n",
       "       ['$15,000.00', '$15,000.00', '$15,000.00', '$15,000.00', '$15,000.00', '$20,000.00'],\n",
       "       ['$0.00', '$0.00', '$25,000.00', '$300.00'],\n",
       "       ['$0.00', '$300.00', 'Bail set at $300 , 10%'],\n",
       "       ['$2,500.00', '$2,500.00', '$5,000.00'],\n",
       "       ['$50,000.00', '$50,000.00', '$50,000.00'],\n",
       "       ['$350,000.00', '$175,000.00', '$100,000.00', '$100,000.00'],\n",
       "       ['$0.00', '$50,000.00', '$50,000.00'],\n",
       "       ['$0.00', '$0.00', '$5,000.00', '$300.00'],\n",
       "       ['$250,000.00', '$100,000.00', '$50,000.00'],\n",
       "       ['$15,000.00', '$12,000.00', '$12,000.00'],\n",
       "       ['$0.00', '$5,000.00', '$5,000.00'],\n",
       "       ['$2,500.00', '$2,500.00', '$0.00', '$0.00'],\n",
       "       ['$50,000.00', '$25,000.00', '$15,000.00', '$5,000.00'],\n",
       "       ['$100,000.00', '$25,000.00', '$15,000.00', '$10,000.00'],\n",
       "       ['$25,000.00', '$75,000.00', '$75,000.00', '$75,000.00', '$100,000.00'],\n",
       "       ['$5,000.00', '$10,000.00', '$10,000.00', '$10,000.00', '$25,000.00'],\n",
       "       ['$150,000.00', '$100,000.00', '$75,000.00', '$75,000.00'],\n",
       "       ['$0.00', '$0.00', '$5,000.00'],\n",
       "       ['$2,500.00', '$2,500.00', '$5,000.00'],\n",
       "       ['$0.00', '$0.00', '$5,000.00'],\n",
       "       ['$150,000.00', '$100,000.00', '$1.00', '$1.00'],\n",
       "       ['$2,500.00', '$2,500.00', '$2,500.00'],\n",
       "       ['$35,000.00', '$20,000.00', '$15,000.00', '$12,000.00'],\n",
       "       ['$350,000.00', '$175,000.00', '$175,000.00'],\n",
       "       ['$5,000.00', '$5,000.00', '$5,000.00'],\n",
       "       ['$5,000.00', '$5,000.00', '$5,000.00'],\n",
       "       ['$500.00', '$500.00', '$500.00'],\n",
       "       ['$7,500.00', '$7,500.00', '$5,000.00', '$7,500.00'],\n",
       "       ['$0.00', '$5,000.00', '$5,000.00'],\n",
       "       ['$50,000.00', '$25,000.00', '$25,000.00'],\n",
       "       ['$3,500.00', '$3,500.00', '$500.00', '$500.00', '$3,500.00'],\n",
       "       ['$1,000.00', '$1,000.00', '$1,000.00', '$0.00'],\n",
       "       ['$1,000.00', '$1,000.00', '$0.00'],\n",
       "       ['$50,000.00', '$10,000.00', '$10,300.00'],\n",
       "       ['$2,500.00', '$2,500.00', '$5,000.00', '$5,000.00', '$7,500.00', '$7,500.00', '$2,500.00'],\n",
       "       ['$5,000.00', '$10,000.00', '$10,000.00'],\n",
       "       ['$150,000.00', '$100,000.00', '$100,000.00'],\n",
       "       ['$2,500.00', '$2,500.00', '$2,500.00'],\n",
       "       ['$25,000.00', '$25,000.00', '$25,000.00', '$25,000.00', '$25,000.00'],\n",
       "       ['$10,000.00', '$10,000.00', '$15,000.00'],\n",
       "       ['$1,000.00', '$1,000.00', '$25,000.00'],\n",
       "       ['$1,000.00', '$1,000.00', '$25,000.00'],\n",
       "       ['$5,000.00', '$5,000.00', '$0.00'],\n",
       "       ['$50,000.00', '$12,000.00', '$12,000.00'],\n",
       "       ['$2,500.00', '$2,500.00', '$2,500.00'],\n",
       "       ['$2,500.00', '$2,500.00', '$2,500.00'],\n",
       "       ['$0.00', '$0.00', '$0.00', '$5,000.00'],\n",
       "       ['$3,000.00', '$3,000.00', '$3,000.00'],\n",
       "       ['$3,000.00', '$3,000.00', '$3,000.00'],\n",
       "       ['$2,500.00', '$2,500.00', '$5,000.00', '$5,000.00', '$0.00'],\n",
       "       ['$100,000.00', '$5,000.00', '$5,000.00'],\n",
       "       ['$1,500.00', '$1,500.00', '$1,500.00'],\n",
       "       ['$5,000.00', '$5,000.00', '$5,000.00'],\n",
       "       ['$10,000.00', '$10,000.00', '$10,000.00', '$15,000.00'],\n",
       "       ['$15,000.00', '$15,000.00', '$15,000.00', '$15,000.00', '$15,000.00', '$5,000.00'],\n",
       "       ['$150,000.00', '$80,000.00', '$80,000.00'],\n",
       "       ['$250,000.00', '$75,000.00', '$75,000.00'],\n",
       "       ['$5,000.00', '$5,000.00', '$7,500.00'],\n",
       "       ['$7,500.00', '$7,500.00', '$10,000.00', '$5,000.00'],\n",
       "       ['$0.00', '$0.00', '$0.00'],\n",
       "       ['$1,000.00', '$1,000.00', '$2,500.00', '$2,500.00'],\n",
       "       ['$0.00', '$5,000.00', '$5,000.00', '$7,500.00'],\n",
       "       ['$75,000.00', '$75,000.00', '$75,000.00'],\n",
       "       ['$1,000.00', '$1,000.00', '$1,000.00'],\n",
       "       ['$1,000.00', '$1,000.00', '$1,000.00'],\n",
       "       ['$1,000.00', '$1,000.00', '$1,000.00'],\n",
       "       ['$50,000.00', '$50,000.00', '$50,000.00', '$50,000.00'],\n",
       "       ['$3,500.00', '$3,500.00', '$3,500.00'],\n",
       "       ['$2,500.00', '$2,500.00', '$7,500.00', '$7,500.00', '$10,000.00', '$10,000.00', '$0.00'],\n",
       "       ['$0.00', '$0.00', '$2,500.00', '$2,500.00', '$2,500.00', '$2,500.00'],\n",
       "       ['$7,500.00', '$7,500.00', '$7,500.00', '$7,500.00', '$7,500.00', '$7,500.00'],\n",
       "       ['$7,500.00', '$7,500.00', '$7,500.00', '$7,500.00', '$7,500.00', '$7,500.00'],\n",
       "       ['$15,000.00', '$15,000.00', '$15,300.00'],\n",
       "       ['$15,000.00', '$15,000.00', '$15,300.00'],\n",
       "       ['$15,000.00', '$15,000.00', '$15,300.00'],\n",
       "       ['$15,000.00', '$15,000.00', '$15,300.00'],\n",
       "       ['$5,000.00', '$5,000.00', '$7,500.00'],\n",
       "       ['$300,000.00', '$150,000.00', '$150,000.00', '$150,000.00', '$150,000.00'],\n",
       "       ['$5,000.00', '$100,000.00', '$100,000.00'],\n",
       "       ['$0.00', '$5,000.00', '$5,000.00'],\n",
       "       ['$300.00', '$300.00', '$0.00'],\n",
       "       ['$1,500.00', '$1,500.00', '$1,500.00', '$1,500.00'],\n",
       "       ['$10,000.00', '$10,000.00', '$10,000.00'],\n",
       "       ['$1,500.00', '$2,500.00', '$1,500.00', '$2,500.00'],\n",
       "       ['$5,000.00', '$5,300.00', 'To pay such fine as has been imposed. $1,500.00', 'Bail motion is heard and GRANTED: Bail increased by $300 to the amount of $5300.'],\n",
       "       ['$5,000.00', '$5,000.00', '$5,000.00'],\n",
       "       ['$150,000.00', '$70,000.00', '$70,000.00'],\n",
       "       ['$2,500.00', '$2,500.00', '$5,000.00', '$5,000.00', '$0.00', '$7,500.00'],\n",
       "       ['$2,500.00', '$2,500.00', '$2,500.00'],\n",
       "       ['$100,000.00', '$75,000.00', '$75,000.00', '$1.00'],\n",
       "       ['$5,000.00', '$5,000.00', '$7,500.00', '$0.00'],\n",
       "       ['$22,500.00', '$10,000.00', '$3,500.00', '$3,500.00', '$5,000.00'],\n",
       "       ['$5,000.00', '$5,000.00', '$5,000.00'],\n",
       "       ['$75,000.00', '$75,000.00', '$75,300.00'],\n",
       "       ['$3,500.00', '$3,500.00', '$7,000.00', '$3,500.00'],\n",
       "       ['$12,000.00', '$7,500.00', '$7,500.00', '$7,500.00', '$7,500.00'],\n",
       "       ['$10,000.00', '$10,000.00', '$10,000.00', '$10,000.00'],\n",
       "       ['$250.00', '$250.00', '$0.00'], ['$250.00', '$250.00', '$0.00'],\n",
       "       ['$250.00', '$250.00', '$0.00'],\n",
       "       ['$2,500.00', '$2,500.00', '$2,500.00', '$7,500.00', '$0.00', '$7,500.00', '$2,500.00'],\n",
       "       ['$1,500.00', '$1,500.00', '$1,500.00'],\n",
       "       ['$5,000.00', '$5,000.00', '$5,300.00'],\n",
       "       ['$5,000.00', '$5,000.00', '$5,000.00', '$5,000.00', '$7,500.00'],\n",
       "       ['$1,000.00', '$1,000.00', '$5,000.00'],\n",
       "       ['$100,000.00', '$50,000.00', '$50,000.00'],\n",
       "       ['$150,000.00', '$100,000.00', '$100,000.00'],\n",
       "       ['$2,500.00', '$2,500.00', '$2,500.00'],\n",
       "       ['$3,500.00', '$3,500.00', '$3,500.00'],\n",
       "       ['$10,000.00', '$5,000.00', '$5,000.00'],\n",
       "       ['$2,500.00', '$2,500.00', '$2,500.00'],\n",
       "       ['$30,000.00', '$30,000.00', '$300.00', '$300.00'],\n",
       "       ['$150,000.00', '$50,000.00', '$50,000.00'],\n",
       "       ['$50,000.00', '$15,000.00', '$15,000.00'],\n",
       "       ['$25,000.00', '$300.00', '$0.00'], ['$0.00', '$0.00', '$5,000.00'],\n",
       "       ['$1,500.00', '$1,500.00', '$1,500.00'],\n",
       "       ['$0.00', '$5,000.00', '$5,000.00', '$5,000.00'],\n",
       "       ['$750,000.00', '$250,000.00', '$125,000.00', '$50,000.00', '$50,000.00'],\n",
       "       ['$1,500.00', '$1,500.00', '$0.00'],\n",
       "       ['$2,500.00', '$2,500.00', '$0.00'],\n",
       "       ['$1,500.00', '$1,500.00', '$1,500.00'],\n",
       "       ['$1,500.00', '$1,500.00', '$2,500.00', '$2,500.00', '$1,500.00', '$0.00'],\n",
       "       ['$2,500.00', '$2,500.00', '$3,000.00', '$0.00'],\n",
       "       ['$0.00', '$5,000.00', '$5,000.00'],\n",
       "       ['$0.00', '$0.00', '$0.00', '$2,500.00'],\n",
       "       ['$50,000.00', '$50,000.00', '$50,000.00'],\n",
       "       ['$100,000.00', '$75,000.00', '$75,000.00'],\n",
       "       ['$150,000.00', '$75,000.00', '$25,000.00'],\n",
       "       ['$0.00', '$0.00', '$0.00', '$5,000.00'],\n",
       "       ['$10,000.00', '$10,000.00', '$10,000.00', '$300.00', '$10,000.00'],\n",
       "       ['$6,700.00', '$6,700.00', '$6,700.00'],\n",
       "       ['$200,000.00', '$25,000.00', '$25,000.00'],\n",
       "       ['$10,000.00', '$5,000.00', '$5,000.00'],\n",
       "       ['$150,000.00', '$30,000.00', '$30,300.00'],\n",
       "       ['$5,000.00', '$5,000.00', '$5,000.00', '$5,000.00'],\n",
       "       ['$50,000.00', '$12,000.00', '$12,000.00'],\n",
       "       ['$0.00', '$2,500.00', '$2,500.00', '$2,500.00', '$5,000.00', '$5,000.00', '$2,500.00'],\n",
       "       ['$3,500.00', '$3,500.00', '$3,500.00'],\n",
       "       ['$1,000.00', '$1,000.00', '$5,000.00'],\n",
       "       ['$5,000.00', '$5,000.00', '$7,500.00', '$300.00'],\n",
       "       ['$25,000.00', '$25,000.00', '$25,000.00'],\n",
       "       ['$0.00', '$0.00', '$0.00'],\n",
       "       ['$0.00', '$5,000.00', '$5,000.00', '$7,500.00'],\n",
       "       ['$10,000.00', '$75,000.00', '$75,000.00'],\n",
       "       ['$5,000.00', '$5,000.00', '$5,000.00', '$5,000.00'],\n",
       "       ['$0.00', '$2,500.00', '$2,500.00'],\n",
       "       ['$1,500.00', '$1,500.00', '$1,500.00'],\n",
       "       ['$10,000.00', '$10,000.00', '$3,000.00'],\n",
       "       ['$5,000.00', '$2,500.00', '$2,500.00'],\n",
       "       ['$0.00', '$1,000.00', '$1,000.00', '$1,500.00'],\n",
       "       ['$500,000.00', '$175,000.00', '$175,000.00'],\n",
       "       ['$3,700.00', '$3,700.00', '$4,000.00'],\n",
       "       ['$500,000.00', '$175,000.00', '$175,000.00'],\n",
       "       ['$1,000.00', '$1,000.00', '$0.00', '$5,000.00'],\n",
       "       ['$2,500.00', '$2,500.00', '$1,000.00', '$0.00'],\n",
       "       ['$150,000.00', '$150,000.00', '$150,000.00', '$150,000.00'],\n",
       "       ['$75,000.00', '$25,000.00', '$25,000.00'],\n",
       "       ['$150,000.00', '$25,000.00', '$25,000.00', '$25,000.00', '$25,000.00', '$25,000.00'],\n",
       "       ['$1,000.00', '$1,000.00', '$2,000.00', '$2,000.00', '$5,000.00'],\n",
       "       ['$100,000.00', '$12,000.00', '$12,000.00'],\n",
       "       ['$5,000.00', '$5,000.00', '$7,500.00'],\n",
       "       ['$0.00', '$1,500.00', '$1,500.00', '$50,000.00'],\n",
       "       ['$100,000.00', '$25,000.00', '$25,000.00'],\n",
       "       ['$0.00', '$1,500.00', '$1,500.00'],\n",
       "       ['$1,000.00', '$1,000.00', '$1,000.00', '$1,000.00', '$1,000.00'],\n",
       "       ['$3,500.00', '$3,500.00', '$3,500.00'],\n",
       "       ['$300,000.00', '$150,000.00', '$150,000.00'],\n",
       "       ['$4,000.00', '$4,000.00', '$4,000.00', '$4,000.00', '$4,000.00'],\n",
       "       ['$8,000.00', '$8,000.00', '$8,000.00', '$8,000.00', '$250,000.00'],\n",
       "       ['$1,500.00', '$1,500.00', '$1,500.00', '$1,500.00'],\n",
       "       ['$150,000.00', '$75,000.00', '$22,500.00'],\n",
       "       ['$500,000.00', '$20,000.00', '$20,000.00'],\n",
       "       ['$5,000.00', '$5,000.00', '$0.00'], ['$0.00', '$0.00', '$0.00'],\n",
       "       ['$200,000.00', '$50,000.00', '$50,000.00'],\n",
       "       ['$2,500.00', '$2,500.00', '$2,500.00'],\n",
       "       ['$0.00', '$5,000.00', '$5,000.00'],\n",
       "       ['$6,700.00', '$2,000.00', '$2,000.00', '$2,000.00'],\n",
       "       ['$2,500.00', '$2,500.00', '$1,000.00', '$1,000.00'],\n",
       "       ['$22,500.00', '$22,500.00', '$22,500.00'],\n",
       "       ['$20,000.00', '$5,000.00', '$2,500.00'],\n",
       "       ['$8,000.00', '$8,000.00', '$8,000.00'],\n",
       "       ['$0.00', '$7,500.00', '$7,500.00', '$2,500.00'],\n",
       "       ['$50,000.00', '$35,000.00', '$35,000.00'],\n",
       "       ['$80,000.00', '$80,000.00', '$75,000.00'],\n",
       "       ['$2,500.00', '$2,500.00', '$1,500.00', '$1,500.00', '$0.00'],\n",
       "       ['$0.00', '$0.00', 'PAY FINES/COSTS OF $235.20', 'FINES/COSTS OF $235.20'],\n",
       "       ['$50,000.00', '$50,000.00', '$50,000.00'],\n",
       "       ['$150,000.00', '$150,000.00', '$150,000.00'],\n",
       "       ['$0.00', '$2,500.00', '$2,500.00'],\n",
       "       ['$0.00', '$1,000.00', '$1,000.00'],\n",
       "       ['$250.00', '$250.00', '$250.00'],\n",
       "       ['$1,000.00', '$1,000.00', '$0.00'],\n",
       "       ['$15,000.00', '$15,000.00', '$300.00'],\n",
       "       ['$50,000.00', '$50,000.00', '$50,000.00', '$50,000.00'],\n",
       "       ['$0.00', '$0.00', '$5,000.00', '$5,000.00', '$7,500.00', '$300.00'],\n",
       "       ['$3,000.00', '$3,000.00', '$3,000.00'],\n",
       "       ['$100,000.00', '$50,000.00', '$20,000.00'],\n",
       "       ['$3,500.00', '$3,500.00', '$3,500.00'],\n",
       "       ['$2,500.00', '$2,500.00', '$2,500.00'],\n",
       "       ['$200,000.00', '$100,000.00', '$100,000.00'],\n",
       "       ['$20,000.00', '$15,000.00', '$5,000.00'],\n",
       "       ['$3,500.00', '$3,500.00', '$3,500.00', '$3,500.00', '$3,500.00', '$3,500.00'],\n",
       "       ['$350,000.00', '$100,000.00', '$100,000.00'],\n",
       "       ['$7,500.00', '$7,500.00', '$7,500.00', '$0.00', '$7,500.00', '$7,500.00'],\n",
       "       ['$3,500.00', '$3,500.00', '$3,500.00'],\n",
       "       ['$5,000.00', '$5,000.00', '$7,500.00'],\n",
       "       ['$1,000.00', '$1,000.00', '$1,000.00'],\n",
       "       ['$2,500.00', '$2,500.00', '$0.00'],\n",
       "       ['$75,000.00', '$40,000.00', '$20,000.00'],\n",
       "       ['$5,000.00', '$5,000.00', '$5,000.00', '$5,000.00', '$10,000.00'],\n",
       "       ['$75,000.00', '$40,000.00', '$40,000.00'],\n",
       "       ['$50,000.00', '$50,000.00', '$0.00'],\n",
       "       ['$5,000.00', '$5,000.00', '$5,000.00'],\n",
       "       ['$100,000.00', '$25,000.00', '$25,000.00'],\n",
       "       ['$5,000.00', '$5,000.00', '$5,000.00'],\n",
       "       ['$2,000.00', '$2,000.00', '$2,000.00'],\n",
       "       ['$5,000.00', '$5,000.00', '$5,000.00'],\n",
       "       ['$350,000.00', '$75,000.00', '$75,000.00'],\n",
       "       ['$2,500.00', '$2,500.00', '$2,500.00'],\n",
       "       ['$15,000.00', '$4,000.00', '$50,000.00'],\n",
       "       ['$0.00', '$2,500.00', '$2,500.00', '$1,000.00'],\n",
       "       ['$150,000.00', '$100,000.00', '$100,000.00'],\n",
       "       ['$50,000.00', '$22,500.00', '$6,700.00'],\n",
       "       ['$5,000.00', '$5,000.00', '$7,500.00', '$7,500.00', '$0.00'],\n",
       "       ['$1,500.00', '$1,500.00', '$1,000.00'],\n",
       "       ['$5,000.00', '$5,000.00', '$5,000.00'],\n",
       "       ['$5,000.00', '$5,000.00', '$5,000.00'],\n",
       "       ['$5,000.00', '$5,000.00', '$1,000.00', 'BAIL IS MODIFIED TO ALLOW DEFENDANT TO SIGN OWN BOND IN THE AMOUNT OF $5,000.00.', 'BAIL IS MODIFIED TO MONETARY IN THE AMOUNT OF$1,000.00 AT 10%.'],\n",
       "       ['$5,000.00', '$5,000.00', '$0.00', '$5,000.00', '$0.00'],\n",
       "       ['$150,000.00', '$25,000.00', '$15,000.00'],\n",
       "       ['$2,500.00', '$2,500.00', '$2,500.00', '$2,500.00', '$1,500.00'],\n",
       "       ['$50,000.00', '$10,000.00', '$10,000.00'],\n",
       "       ['$5,000.00', '$5,000.00', '$5,000.00', '$5,000.00'],\n",
       "       ['$0.00', '$1,500.00', '$1,500.00'],\n",
       "       ['$5,000.00', '$5,000.00', '$5,000.00', '$5,000.00'],\n",
       "       ['$0.00', '$0.00', '$5,000.00', '$5,000.00', '$5,000.00'],\n",
       "       ['$0.00', '$2,500.00', '$2,500.00'],\n",
       "       ['$150,000.00', '$100,000.00', '$75,000.00'],\n",
       "       ['$0.00', '$25,000.00', '$25,000.00'],\n",
       "       ['$10,000.00', '$10,000.00', '$50,000.00', '$0.00'],\n",
       "       ['$0.00', '$7,500.00', '$300.00'],\n",
       "       ['$250,000.00', '$250,000.00', '$250,000.00'],\n",
       "       ['$50,000.00', '$50,000.00', '$50,000.00'],\n",
       "       ['$7,500.00', '$7,500.00', '$7,500.00', '$7,500.00'],\n",
       "       ['$0.00', '$0.00', '$10,000.00', '$10,000.00'],\n",
       "       ['$75,000.00', '$250,000.00', '$75,000.00'],\n",
       "       ['$0.00', '$250,000.00', '$250,000.00'],\n",
       "       ['$150,000.00', '$50,000.00', '$50,000.00'],\n",
       "       ['$5,000.00', '$5,000.00', '$5,000.00', '$5,000.00'],\n",
       "       ['$1,000,000.00', '$300,000.00', '$75,000.00'],\n",
       "       ['$5,000.00', '$5,000.00', '$5,000.00', '$5,000.00', '$5,000.00'],\n",
       "       ['$5,000,000.00', '$1,500,000.00', '$999,999.00', '$1.00'],\n",
       "       ['$5,000,000.00', '$3,500,000.00', '$1.00'],\n",
       "       ['$5,000.00', '$5,000.00', '$7,500.00', '$7,500.00', '$10,000.00', '$2,500.00', '$1,000.00', '$5,000.00', '$10,000.00'],\n",
       "       ['$0.00', '$2,500.00', '$2,500.00'],\n",
       "       ['$5,000.00', '$5,000.00', '$5,000.00'],\n",
       "       ['$2,500.00', '$2,500.00', '$7,500.00'],\n",
       "       ['$0.00', '$2,500.00', '$2,500.00', '$0.00'],\n",
       "       ['$250.00', '$250.00', '$25,000.00'],\n",
       "       ['$1,500.00', '$1,500.00', '$1,500.00'],\n",
       "       ['$5,000.00', '$5,000.00', '$5,000.00', '$5,000.00', '$8,000.00'],\n",
       "       ['$2,500.00', '$3,000.00', '$3,000.00', '$5,000.00', '$5,000.00'],\n",
       "       ['$35,000.00', '$35,000.00', '$35,000.00', '$35,000.00'],\n",
       "       ['$6,700.00', '$6,700.00', '$500,000.00'],\n",
       "       ['$0.00', 'FINES/COSTS OF $235.20. CONTINUE FOR PROGRESS. NEXT COURT DATE: 2/21/17 ROOM 906 JUDGE:', 'FINES/COSTS OF $235.20'],\n",
       "       ['$0.00', 'FINES/COSTS OF $235.20', 'FINES/COSTS OF $235.20'],\n",
       "       ['$1,500.00', '$1,000.00', '$1,000.00'],\n",
       "       ['$0.00', '$2,500.00', '$2,500.00'],\n",
       "       ['$2,500.00', '$2,500.00', '$0.00', '$1,000.00'],\n",
       "       ['$5,000.00', '$5,000.00', '$5,000.00'],\n",
       "       ['$0.00', '$5,000.00', '$5,000.00', '$5,000.00'],\n",
       "       ['$1,500.00', '$1,500.00', '$1,500.00'],\n",
       "       ['$75,000.00', '$35,000.00', '$30,000.00', '$30,300.00'],\n",
       "       ['$0.00', '$2,500.00', '$2,500.00'],\n",
       "       ['$3,700.00', '$3,700.00', '$3,700.00'],\n",
       "       ['$15,000.00', '$15,000.00', '$15,000.00'],\n",
       "       ['$3,700.00', '$3,700.00', '$3,700.00', '$3,700.00', '$5,000.00'],\n",
       "       ['$10,000.00', '$10,000.00', '$10,000.00'],\n",
       "       ['$50,000.00', '$25,000.00', '$10,000.00'],\n",
       "       ['$20,000.00', '$20,000.00', '$20,000.00', '$20,000.00'],\n",
       "       ['$50,000.00', '$25,000.00', '$10,000.00'],\n",
       "       ['$0.00', '$0.00', '$300.00'],\n",
       "       ['$5,000.00', '$5,000.00', '$5,000.00'],\n",
       "       ['$25,000.00', '$25,000.00', '$25,000.00'],\n",
       "       ['$7,500.00', '$7,800.00', '$7,500.00'],\n",
       "       ['$25,000.00', '$15,000.00', '$5,000.00'],\n",
       "       ['$25,000.00', '$15,000.00', '$5,000.00'],\n",
       "       ['$1,000.00', '$1,000.00', '$1,000.00', '$1,000.00'],\n",
       "       ['$0.00', '$2,500.00', '$2,500.00'],\n",
       "       ['$20,000.00', '$20,000.00', '$20,000.00', '$20,000.00'],\n",
       "       ['$50,000.00', '$30,000.00', '$8,000.00'],\n",
       "       ['$5,000.00', '$5,000.00', '$5,000.00'],\n",
       "       ['$10,000.00', '$7,500.00', '$7,500.00'],\n",
       "       ['$5,000.00', '$5,000.00', '$25,000.00'],\n",
       "       ['$1,500.00', '$1,500.00', '$1,500.00', '$1,500.00'],\n",
       "       ['$1,500.00', '$1,500.00', '$1,500.00'],\n",
       "       ['$3,700.00', '$3,700.00', '$3,700.00', '$3,700.00'],\n",
       "       ['$12,000.00', '$12,000.00', '$12,000.00'],\n",
       "       ['$150,000.00', '$50,000.00', '$15,000.00'],\n",
       "       ['$6,700.00', '$6,700.00', '$6,700.00', '$6,700.00', '$6,700.00', '$9,200.00', '$9,200.00'],\n",
       "       ['$0.00', '$0.00', '$300.00'],\n",
       "       ['$2,500.00', '$2,500.00', '$2,500.00', '$5,000.00', '$0.00'],\n",
       "       ['$5,000.00', '$5,000.00', '$5,000.00'],\n",
       "       ['$50,000.00', '$25,000.00', '$25,000.00'],\n",
       "       ['$50,000.00', '$25,000.00', '$5,000.00'],\n",
       "       ['$25,000.00', '$12,500.00', '$12,500.00'],\n",
       "       ['$12,000.00', '$12,000.00', '$12,000.00'],\n",
       "       ['$0.00', '$0.00', '$5,000.00'],\n",
       "       ['$12,500.00', '$12,500.00', '$12,500.00'],\n",
       "       ['$6,700.00', '$300.00', '$300.00'],\n",
       "       ['$5,000.00', '$5,000.00', '$5,000.00'],\n",
       "       ['$25,000.00', '$25,000.00', '$5,000.00', '$25,000.00'],\n",
       "       ['$0.00', '$2,500.00', '$2,500.00'],\n",
       "       ['$2,500.00', '$2,500.00', '$2,500.00', '$2,500.00'],\n",
       "       ['$0.00', '$10,000.00', '$10,000.00'],\n",
       "       ['$0.00', '$1,500.00', '$1,500.00'],\n",
       "       ['$15,000.00', '$15,000.00', '$15,000.00'],\n",
       "       ['$10,000.00', '$10,000.00', '$10,000.00'],\n",
       "       ['$5,000.00', '$5,000.00', '$5,000.00', '$5,000.00', '$0.00'],\n",
       "       ['$6,700.00', '$6,700.00', '$6,700.00', '$6,700.00', '$3,000.00'],\n",
       "       ['$3,000.00', '$3,000.00', '$10,000.00'],\n",
       "       ['$10,000.00', '$10,000.00', '$10,000.00'],\n",
       "       ['$5,000.00', '$5,000.00', '$5,000.00'],\n",
       "       ['$300,000.00', '$150,000.00', '$150,000.00'],\n",
       "       ['$50,000.00', '$15,000.00', '$7,500.00', '$7,500.00'],\n",
       "       ['$8,000.00', '$8,000.00', '$8,000.00'],\n",
       "       ['$50,000.00', '$15,000.00', '$7,500.00', '$15,000.00'],\n",
       "       ['$500,000.00', '$400,000.00', '$400,000.00'],\n",
       "       ['$250,000.00', '$100,000.00', '$100,000.00'],\n",
       "       ['$500,000.00', '$150,000.00', '$100,000.00'],\n",
       "       ['$500,000.00', '$50,000.00', '$50,000.00'],\n",
       "       ['$4,500.00', '$4,500.00', '$4,500.00'],\n",
       "       ['$10,000.00', '$10,000.00', '$0.00'],\n",
       "       ['$5,000.00', '$2,500.00', '$2,500.00'],\n",
       "       ['$2,500.00', '$2,500.00', '$2,500.00'],\n",
       "       ['$1,000.00', '$1,000.00', '$1,000.00'],\n",
       "       ['$5,000.00', '$5,000.00', '$2,500.00', '$2,500.00', '$2,500.00'],\n",
       "       ['$10,000.00', '$7,000.00', '$7,000.00', '$7,000.00'],\n",
       "       ['$7,500.00', '$300.00', '$300.00', '$300.00'],\n",
       "       ['$30,000.00', '$3,700.00', '$3,700.00', '$3,700.00', '$3,700.00'],\n",
       "       ['$5,000.00', '$5,000.00', '$7,500.00'],\n",
       "       ['$50,000.00', '$10,000.00', '$10,000.00'],\n",
       "       ['$25,000.00', '$25,000.00', '$25,000.00', '$30,000.00', '$2,500.00'],\n",
       "       ['$0.00', '$0.00', '$1,500.00'],\n",
       "       ['$250,000.00', '$100,000.00', '$50,000.00', '$50,300.00'],\n",
       "       ['$250,000.00', '$75,000.00', '$75,000.00', '$75,000.00'],\n",
       "       ['$500.00', '$500.00', '$500.00', '$500.00'],\n",
       "       ['$5,000.00', '$10,000.00', '$5,000.00'],\n",
       "       ['$100,000.00', '$50,000.00', '$50,000.00'],\n",
       "       ['$3,500.00', '$3,500.00', '$3,500.00'],\n",
       "       ['$5,000.00', '$5,000.00', '$10,000.00', '$10,000.00', '$10,000.00'],\n",
       "       ['$0.00', '$0.00', '$2,500.00'],\n",
       "       ['$2,500.00', '$2,500.00', '$5,000.00', '$5,000.00', '$0.00'],\n",
       "       ['$3,700.00', '$3,700.00', '$7,500.00'],\n",
       "       ['$150,000.00', '$30,000.00', '$30,000.00'],\n",
       "       ['$125,000.00', '$100,000.00', '$100,000.00'],\n",
       "       ['$10,000.00', '$10,000.00', '$10,000.00'],\n",
       "       ['$50,000.00', '$25,000.00', '$5,000.00'],\n",
       "       ['$500,000.00', '$250,000.00', '$175,000.00', '$175,000.00'],\n",
       "       ['$5,000.00', '$5,000.00', '$5,000.00', '$5,000.00'],\n",
       "       ['$5,000.00', '$5,000.00', '$5,000.00'],\n",
       "       ['$5,000.00', '$5,000.00', '$5,000.00', '$10,000.00'],\n",
       "       ['$50,000.00', '$5,000.00', '$5,000.00'],\n",
       "       ['$10,000.00', '$10,300.00', '$10,600.00'],\n",
       "       ['$20,000.00', '$20,000.00', '$5,000.00'],\n",
       "       ['$200,000.00', '$75,000.00', '$75,000.00', '$75,000.00'],\n",
       "       ['$10,000.00', '$5,000.00', '$5,000.00'],\n",
       "       ['$10,000.00', '$10,000.00', '$25,000.00'],\n",
       "       ['$30,000.00', '$15,000.00', '$5,000.00'],\n",
       "       ['$30,000.00', '$30,000.00', '$30,000.00'],\n",
       "       ['$25,000.00', '$25,300.00', '$25,000.00', '$25,300.00'],\n",
       "       ['$50,000.00', '$25,000.00', '$50,000.00'],\n",
       "       ['$50,000.00', '$25,000.00', '$50,000.00'],\n",
       "       ['$50,000.00', '$25,000.00', '$50,000.00'],\n",
       "       ['$50,000.00', '$25,000.00', '$50,000.00'],\n",
       "       ['$1,500.00', '$1,500.00', '$1,500.00'],\n",
       "       ['$300.00', '$300.00', '$300.00', '$300.00', '$500.00', '$500.00', '$1,500.00'],\n",
       "       ['$300.00', '$300.00', '$300.00', '$300.00', '$500.00', '$500.00', '$1,500.00'],\n",
       "       ['$50,000.00', '$25,000.00', '$50,000.00'],\n",
       "       ['$50,000.00', '$25,000.00', '$50,000.00'],\n",
       "       ['$50,000.00', '$25,000.00', '$50,000.00'],\n",
       "       ['$25,000.00', '$15,000.00', '$15,000.00'],\n",
       "       ['$50,000.00', '$25,000.00', '$50,000.00'],\n",
       "       ['$75,000.00', '$100,000.00', '$100,000.00'],\n",
       "       ['$30,000.00', '$15,000.00', '$15,000.00'],\n",
       "       ['$50,000.00', '$50,000.00', '$50,000.00'],\n",
       "       ['$2,500.00', '$2,500.00', '$2,500.00'],\n",
       "       ['$1,500.00', '$0.00', '$1,500.00'],\n",
       "       ['$0.00', '$0.00', '$5,000.00', '$5,000.00'],\n",
       "       ['$150,000.00', '$75,000.00', '$20,000.00'],\n",
       "       ['$2,500.00', '$2,500.00', '$2,500.00', '$2,500.00'],\n",
       "       ['$0.00', '$0.00', '$2,500.00'],\n",
       "       ['$4,500.00', '$4,500.00', '$4,500.00'],\n",
       "       ['$5,000.00', '$5,000.00', '$5,000.00'],\n",
       "       ['$25,000.00', '$25,000.00', '$25,000.00', '$25,000.00'],\n",
       "       ['$5,000.00', '$2,500.00', '$1.00'],\n",
       "       ['$0.00', '$0.00', '$2,500.00', '$2,500.00'],\n",
       "       ['$0.00', '$0.00', '$5,000.00'],\n",
       "       ['$1,500.00', '$1,500.00', '$1,500.00', '$3,000.00'],\n",
       "       ['$300.00', '$300.00', '$300.00'],\n",
       "       ['$4,000.00', '$4,000.00', '$4,000.00'],\n",
       "       ['$5,500.00', '$5,500.00', '$5,500.00', '$5,500.00', '$5,500.00'],\n",
       "       ['$10,000.00', '$10,000.00', '$5,000.00', '$5,000.00'],\n",
       "       ['$2,000.00', '$2,000.00', '$5,000.00', '$0.00'],\n",
       "       ['$3,000.00', '$3,000.00', '$3,000.00', '$3,000.00'],\n",
       "       ['$2,500.00', '$2,500.00', '$0.00'],\n",
       "       ['$2,500.00', '$2,500.00', '$2,500.00'],\n",
       "       ['$7,500.00', '$7,500.00', '$7,500.00', '$7,500.00'],\n",
       "       ['$1,500.00', '$1,500.00', '$15,000.00'],\n",
       "       ['$50,000.00', '$20,000.00', '$20,000.00'],\n",
       "       ['$10,000,000.00', '$150,000.00', '$15,000.00'],\n",
       "       ['$2,500.00', '$2,500.00', '$2,500.00'],\n",
       "       ['$10,000,000.00', '$50,000.00', '$100.00'],\n",
       "       ['$2,000.00', '$2,000.00', '$3,000.00', '$1,500.00', '$1,500.00'],\n",
       "       ['$20,000.00', '$20,000.00', '$25,000.00'],\n",
       "       ['$5,000.00', '$5,000.00', '$5,000.00', '$0.00', '$2,500.00', '$2,500.00'],\n",
       "       ['$2,000.00', '$2,000.00', '$2,000.00', '$2,000.00', '$5,000.00'],\n",
       "       ['$50,000.00', '$15,000.00', '$50,000.00'],\n",
       "       ['$3,500.00', '$3,500.00', '$3,500.00'],\n",
       "       ['$1,500.00', '$1,500.00', '$0.00'],\n",
       "       ['$5,000.00', '$5,000.00', '$5,000.00', '$7,500.00'],\n",
       "       ['$2,500.00', '$2,500.00', '$2,500.00', '$2,500.00', '$2,500.00'],\n",
       "       ['$2,500.00', '$2,500.00', '$2,500.00'],\n",
       "       ['$5,000.00', '$10,000.00', '$10,000.00', '$0.00', '$5,000.00', '$0.00'],\n",
       "       ['$25,000.00', '$25,000.00', '$25,000.00'],\n",
       "       ['$2,500.00', '$2,500.00', '$0.00'],\n",
       "       ['$0.00', '$1,000.00', '$1,000.00'],\n",
       "       ['$2,500.00', '$2,500.00', '$2,500.00'],\n",
       "       ['$1,500.00', '$1,500.00', '$1,500.00', '$1,500.00', '$2,500.00'],\n",
       "       ['$300.00', '$300.00', '$0.00'],\n",
       "       ['$2,500.00', '$2,500.00', '$3,500.00'],\n",
       "       ['$300.00', '$300.00', '$300.00'],\n",
       "       ['$2,500.00', '$2,500.00', '$2,500.00'],\n",
       "       ['$2,500.00', '$2,500.00', '$2,500.00'],\n",
       "       ['$6,000.00', '$6,000.00', '$6,000.00', '$6,000.00', '$7,500.00'],\n",
       "       ['$1,000.00', '$1,000.00', '$25,000.00'],\n",
       "       ['$2,500.00', '$2,500.00', '$2,500.00'],\n",
       "       ['$2,500.00', '$1,000.00', '$1,000.00'],\n",
       "       ['$0.00', '$0.00', '$1,500.00'],\n",
       "       ['$1,000.00', '$1,000.00', '$1,000.00'],\n",
       "       ['$0.00', '$0.00', '$2,500.00', '$2,500.00', '$0.00'],\n",
       "       ['$5,000.00', '$5,000.00', '$5,000.00'],\n",
       "       ['$5,000.00', '$5,000.00', '$5,000.00'],\n",
       "       ['$0.00', '$0.00', '$2,000.00', '$2,500.00', '$5,000.00', '$6,000.00', '$6,000.00', '$6,000.00', '$5,000.00'],\n",
       "       ['$7,500.00', '$7,500.00', '$7,500.00'],\n",
       "       ['$15,000.00', '$15,000.00', '$15,000.00', '$1,500.00'],\n",
       "       ['$15,000.00', '$15,000.00', '$15,000.00', '$1,500.00'],\n",
       "       ['$2,500.00', '$2,500.00', '$2,500.00', '$2,500.00', '$2,500.00', '$2,500.00', '$2,500.00'],\n",
       "       ['$2,500.00', '$2,500.00', '$2,500.00', '$2,500.00', '$2,500.00', '$2,500.00'],\n",
       "       ['$15,000.00', '$15,000.00', '$15,000.00'],\n",
       "       ['$20,000.00', '$20,000.00', '$20,000.00', '$20,000.00', '$20,000.00'],\n",
       "       ['$3,000.00', '$3,000.00', '$3,000.00'],\n",
       "       ['$1,500.00', '$1,500.00', '$1,500.00'],\n",
       "       ['$60,000.00', '$200,000.00', '$10,000.00'],\n",
       "       ['$5,000.00', '$5,000.00', '$5,000.00'],\n",
       "       ['$5,000.00', '$0.00', '$5,000.00'],\n",
       "       ['$0.00', '$0.00', '$0.00', '$1,500.00', '$1,500.00', '$3,500.00'],\n",
       "       ['$2,500.00', '$2,500.00', '$0.00'],\n",
       "       ['$25,000.00', '$25,000.00', '$25,000.00'],\n",
       "       ['$5,000.00', '$5,000.00', '$5,000.00', '$1,000.00'],\n",
       "       ['$25,000.00', '$25,000.00', '$25,000.00'],\n",
       "       ['$25,000.00', '$25,000.00', '$25,000.00'],\n",
       "       ['$15,000.00', '$15,000.00', '$15,000.00'],\n",
       "       ['$5,000.00', '$5,000.00', '$5,000.00'],\n",
       "       ['$5,000.00', '$5,000.00', '$5,000.00'],\n",
       "       ['$2,500.00', '$2,500.00', '$2,500.00', '$2,500.00', '$2,500.00', '$5,000.00', '$5,000.00', '$10,000.00', '$10,000.00', '$10,000.00', '$15,000.00'],\n",
       "       ['$2,500.00', '$2,500.00', '$0.00', '$2,500.00'],\n",
       "       ['$2,500.00', '$2,500.00', '$2,500.00', '$2,500.00'],\n",
       "       ['$25,000.00', '$25,000.00', '$25,000.00'],\n",
       "       ['$3,000.00', '$3,000.00', '$3,000.00'],\n",
       "       ['$0.00', '$0.00', '$2,000.00'],\n",
       "       ['$10,000.00', '$10,000.00', '$10,000.00', '$10,000.00', '$10,000.00', '$5,000.00'],\n",
       "       ['$10,000.00', '$5,000.00', '$5,000.00'],\n",
       "       ['$5,000.00', '$5,000.00', '$1,000.00'],\n",
       "       ['$10,000.00', '$10,000.00', '$10,000.00'],\n",
       "       ['$2,500.00', '$2,500.00', '$2,500.00'],\n",
       "       ['$10,000.00', '$5,000.00', '$5,000.00', '$10,000.00'],\n",
       "       ['$0.00', '$0.00', '$0.00'], ['$0.00', '$0.00', '$5,000.00'],\n",
       "       ['$100,000.00', '$50,000.00', '$50,000.00'],\n",
       "       ['$0.00', '$0.00', '$5,000.00', '$5,000.00'],\n",
       "       ['$5,000.00', '$5,000.00', '$5,000.00', '$5,000.00', '$5,000.00'],\n",
       "       ['$100,000.00', '$50,000.00', '$50,000.00'],\n",
       "       ['$150,000.00', '$75,000.00', '$75,000.00'],\n",
       "       ['$2,500.00', '$2,500.00', '$5,000.00', '$0.00'],\n",
       "       ['$0.00', '$5,000.00', '$15,000.00'],\n",
       "       ['$3,700.00', '$3,700.00', '$3,700.00', '$3,700.00', '$3,700.00', '$5,000.00', '$5,000.00', '$5,000.00'],\n",
       "       ['$100,000.00', '$50,000.00', '$50,000.00'],\n",
       "       ['$0.00', '$0.00', '$0.00'],\n",
       "       ['$5,000.00', '$5,000.00', '$2,500.00', '$0.00'],\n",
       "       ['$0.00', '$0.00', '$0.00', '$0.00', '$2,500.00'],\n",
       "       ['$35,000.00', '$35,000.00', '$35,000.00', '$35,400.00'],\n",
       "       ['$0.00', '$0.00', '$0.00'],\n",
       "       ['$1,000.00', '$1,000.00', '$1,000.00', '$0.00'],\n",
       "       ['$440,000.00', '$10,000.00', '$10,000.00'],\n",
       "       ['$0.00', '$1,500.00', '$1,500.00'],\n",
       "       ['$50,000.00', '$50,000.00', '$50,000.00'],\n",
       "       ['$6,700.00', '$6,700.00', '$7,500.00', '$7,800.00'],\n",
       "       ['$5,000.00', '$5,000.00', '$50,000.00'],\n",
       "       ['$75,000.00', '$25,000.00', '$15,000.00'],\n",
       "       ['$0.00', '$5,000.00', '$300.00'],\n",
       "       ['$7,500.00', '$7,500.00', '$5,000.00', '$0.00', '$0.00'],\n",
       "       ['$1,500.00', '$1,500.00', '$1,000.00'],\n",
       "       ['$50,000.00', '$37,500.00', '$37,500.00'],\n",
       "       ['$0.00', '$2,000.00', '$2,000.00', '$2,000.00'],\n",
       "       ['$25,000.00', '$25,000.00', '$25,000.00', '$25,000.00', '$25,000.00', '$25,000.00', '$25,000.00', '$100,000.00'],\n",
       "       ['$5,000.00', '$5,000.00', '$5,000.00', '$5,000.00', '$7,500.00', '$2,500.00'],\n",
       "       ['$2,000.00', '$2,000.00', '$250,000.00'],\n",
       "       ['$50,000.00', '$20,000.00', '$20,000.00'],\n",
       "       ['$50,000.00', '$50,000.00', '$50,000.00'],\n",
       "       ['$3,000.00', '$3,000.00', '$3,000.00'],\n",
       "       ['$5,000.00', '$5,000.00', '$5,000.00'],\n",
       "       ['$0.00', '$0.00', '$1,000.00', '$1,000.00', '$1,000.00', '$1,000.00', '$0.00', '$0.00'],\n",
       "       ['$50,000.00', '$25,000.00', '$25,000.00'],\n",
       "       ['$2,500.00', '$2,500.00', '$2,500.00'],\n",
       "       ['$150,000.00', '$50,000.00', '$50,000.00'],\n",
       "       ['$750,000.00', '$100,000.00', '$100,000.00'],\n",
       "       ['$5,000.00', '$5,000.00', '$5,000.00'],\n",
       "       ['$2,500.00', '$2,500.00', '$2,500.00', '$2,500.00'],\n",
       "       ['$2,500.00', '$2,500.00', '$2,500.00', '$2,500.00', '$2,500.00', '$5,000.00'],\n",
       "       ['$5,000.00', '$5,000.00', '$5,000.00', '$5,000.00', '$5,000.00'],\n",
       "       ['$5,000.00', '$5,300.00', '$0.00', '$0.00'],\n",
       "       ['$5,000.00', '$5,000.00', '$5,000.00', '$0.00'],\n",
       "       ['$3,500.00', '$3,500.00', '$3,500.00', '$3,500.00', '$3,500.00', '$1,000.00', '$1,000.00', '$3,500.00'],\n",
       "       ['$75,000.00', '$25,000.00', '$25,000.00'],\n",
       "       ['$2,500.00', '$2,500.00', '$2,500.00'],\n",
       "       ['$2,500.00', '$2,500.00', '$2,500.00', '$2,500.00', '$2,500.00'],\n",
       "       ['$0.00', '$15,000.00', '$15,300.00'],\n",
       "       ['$50,000.00', '$50,000.00', '$50,000.00', '$85,000.00', '$50,000.00'],\n",
       "       ['$50,000.00', '$25,000.00', '$25,000.00'],\n",
       "       ['$150,000.00', '$50,000.00', '$50,000.00'],\n",
       "       ['$5,000.00', '$5,000.00', '$5,000.00', '$7,500.00', '$0.00', '$7,500.00', '$5,000.00'],\n",
       "       ['$2,500.00', '$2,500.00', '$2,500.00', '$2,500.00', '$2,500.00', '$2,500.00', '$2,500.00', '$2,500.00', '$2,500.00'],\n",
       "       ['$0.00', '$0.00', '$1,000.00'],\n",
       "       ['$100,000.00', '$10,000.00', '$10,000.00'],\n",
       "       ['$5,000.00', '$5,000.00', '$5,000.00'],\n",
       "       ['$100,000.00', '$10,000.00', '$10,000.00'],\n",
       "       ['$3,000.00', '$3,000.00', '$3,000.00', '$1,000.00', '$3,000.00', '$1,000.00'],\n",
       "       ['$25,000.00', '$25,000.00', '$25,000.00'],\n",
       "       ['$6,700.00', '$3,500.00', '$0.00'],\n",
       "       ['$6,000.00', '$3,000.00', '$1,000.00'],\n",
       "       ['$5,000.00', '$5,000.00', '$5,000.00', '$5,000.00', '$250,000.00', '$250,000.00', '$250,000.00'],\n",
       "       ['$0.00', '$0.00', '$7,500.00'],\n",
       "       ['$0.00', '$2,500.00', '$2,500.00', '$2,500.00'],\n",
       "       ['$5,000.00', '$5,000.00', '$5,000.00'],\n",
       "       ['$15,000.00', '$15,000.00', '$0.00'],\n",
       "       ['$75,000.00', '$15,000.00', '$10,000.00'],\n",
       "       ['$0.00', '$2,500.00', '$2,500.00'],\n",
       "       ['$22,500.00', '$3,000.00', '$3,000.00', '$1,000.00'],\n",
       "       ['$6,500.00', '$6,500.00', '$6,500.00', '$6,500.00', '$6,500.00', '$5,000.00', '$5,000.00'],\n",
       "       ['$5,000.00', '$2,500.00', '$2,500.00', '$2,500.00'],\n",
       "       ['$20,000.00', '$20,000.00', '$35,000.00'],\n",
       "       ['$15,000.00', '$15,000.00', '$25,000.00'],\n",
       "       ['$7,500.00', '$7,500.00', '$10,000.00'],\n",
       "       ['$2,500.00', '$2,500.00', '$0.00', '$2,500.00'],\n",
       "       ['$250,000.00', '$125,000.00', '$125,000.00'],\n",
       "       ['$5,000.00', '$5,000.00', '$5,000.00'],\n",
       "       ['$5,000.00', '$5,000.00', '$5,000.00', '$7,500.00'],\n",
       "       ['$35,000.00', '$35,000.00', '$35,000.00', '$35,000.00'],\n",
       "       ['$0.00', '$5,000.00', '$5,000.00'],\n",
       "       ['$5,000.00', '$5,000.00', '$5,000.00'],\n",
       "       ['$20,000.00', '$10,000.00', '$2,500.00'],\n",
       "       ['$0.00', '$2,500.00', '$300.00'],\n",
       "       ['$1,000.00', '$1,000.00', '$2,000.00', '$2,000.00'],\n",
       "       ['$5,000.00', '$5,000.00', '$5,000.00', '$5,000.00', '$5,000.00', '$5,000.00'],\n",
       "       ['$7,500.00', '$7,500.00', '$7,500.00', '$7,500.00'],\n",
       "       ['$5,000.00', '$5,000.00', '$5,000.00', '$5,000.00'],\n",
       "       ['$5,000.00', '$5,000.00', '$5,000.00', '$7,000.00'],\n",
       "       ['$50,000.00', '$25,000.00', '$15,000.00'],\n",
       "       ['$10,000.00', '$10,000.00', '$10,000.00'],\n",
       "       ['$15,000.00', '$15,000.00', '$15,000.00'],\n",
       "       ['$5,000.00', '$5,000.00', '$5,000.00', '$2,500.00'],\n",
       "       ['$30,000.00', '$10,000.00', '$10,000.00'],\n",
       "       ['$50,000.00', '$35,000.00', '$35,000.00', '$35,000.00', '$40,000.00', '$37,000.00', '$37,000.00', '$3,000.00'],\n",
       "       ['$5,000.00', '$2,000.00', '$2,000.00'],\n",
       "       ['$2,500.00', '$2,500.00', '$2,500.00'],\n",
       "       ['$5,000.00', '$5,000.00', '$2,500.00', '$2,500.00'],\n",
       "       ['$5,000.00', '$5,000.00', '$7,500.00'],\n",
       "       ['$5,000.00', '$5,000.00', '$0.00'],\n",
       "       ['$75,000.00', '$25,000.00', '$5,000.00'],\n",
       "       ['$0.00', '$0.00', '$300.00'],\n",
       "       ['$50,000.00', '$50,000.00', '$50,000.00'],\n",
       "       ['$2,500.00', '$2,500.00', '$2,500.00', '$0.00'],\n",
       "       ['$5,000.00', '$5,000.00', '$5,000.00'],\n",
       "       ['$5,000.00', '$5,000.00', 'PAY $600 RESTITUTION.', 'PAY $600 RESTITUTION. WAIVE FORMAL ARRAIGNMENT, PLED NOT GUILTY. ADJUDGED GUILTY OF 3934.'],\n",
       "       ['$2,000.00', '$2,000.00', '$4,500.00', '$4,500.00'],\n",
       "       ['$6,000.00', '$6,000.00', '$6,000.00'],\n",
       "       ['$10,000.00', '$1,000.00', '$1,000.00'],\n",
       "       ['$10,000.00', '$1,000.00', '$1,000.00'],\n",
       "       ['$10,000.00', '$1,000.00', '$1,000.00'],\n",
       "       ['$0.00', '$0.00', '$0.00'],\n",
       "       ['$3,700.00', '$3,700.00', '$3,700.00', '$3,700.00', '$3,700.00'],\n",
       "       ['$3,500.00', '$3,500.00', '$3,500.00', '$0.00'],\n",
       "       ['$100,000.00', '$50,000.00', '$50,000.00', '$50,000.00'],\n",
       "       ['$15,000.00', '$15,000.00', '$25,000.00'],\n",
       "       ['$5,000.00', '$5,000.00', '$5,000.00', '$0.00'],\n",
       "       ['$3,000.00', '$3,000.00', '$3,000.00'],\n",
       "       ['$5,000.00', '$5,000.00', '$7,500.00'],\n",
       "       ['$5,000.00', '$5,000.00', '$5,000.00'],\n",
       "       ['$250,000.00', '$40,000.00', '$40,000.00'],\n",
       "       ['$2,500.00', '$2,500.00', '$2,500.00', '$10,000.00'],\n",
       "       ['$5,000.00', '$5,000.00', '$5,000.00'],\n",
       "       ['$10,000.00', '$10,000.00', '$10,300.00'],\n",
       "       ['$15,000.00', '$15,000.00', '$15,000.00'],\n",
       "       ['$150,000.00', '$40,000.00', '$40,000.00'],\n",
       "       ['$2,500.00', '$50,000.00', '$2,500.00'],\n",
       "       ['$1,000.00', '$1,000.00', '$1,500.00', '$0.00'],\n",
       "       ['$2,500.00', '$2,500.00', '$2,500.00'],\n",
       "       ['$20,000.00', '$20,000.00', '$20,000.00'],\n",
       "       ['$0.00', '$5,000.00', '$300.00'],\n",
       "       ['$500.00', '$500.00', '$1,500.00'],\n",
       "       ['$3,500.00', '$3,500.00', '$3,500.00'],\n",
       "       ['$50,000.00', '$50,000.00', '$50,000.00', '$50,000.00'],\n",
       "       ['$5,000.00', '$5,000.00', '$5,000.00'],\n",
       "       ['$5,000.00', '$5,000.00', '$0.00'],\n",
       "       ['$0.00', '$5,000.00', '$5,000.00'],\n",
       "       ['$300.00', '$300.00', '$0.00'],\n",
       "       ['$0.00', '$5,000.00', '$5,000.00', '$7,500.00'],\n",
       "       ['$1,500.00', '$1,500.00', '$0.00'],\n",
       "       ['$10,000.00', '$10,000.00', '$10,000.00', '$10,000.00', '$20,000.00'],\n",
       "       ['$0.00', '$2,500.00', '$2,500.00'],\n",
       "       ['$5,000.00', '$5,000.00', '$5,000.00', '$5,000.00'],\n",
       "       ['$10,000.00', '$10,000.00', '$10,000.00', '$10,000.00', '$10,000.00'],\n",
       "       ['$5,000.00', '$5,000.00', '$2,500.00', '$2,500.00', '$0.00'],\n",
       "       ['$1,000.00', '$1,000.00', '$0.00', '$5,000.00', '$1,000.00', '$5,000.00', '$1,500.00'],\n",
       "       ['$2,500.00', '$2,500.00', '$5,000.00', '$0.00'],\n",
       "       ['$50,000.00', '$25,000.00', '$15,000.00'],\n",
       "       ['$5,000.00', '$5,000.00', '$5,000.00', '$249,000.00'],\n",
       "       ['$0.00', '$0.00', '$5,000.00'],\n",
       "       ['$2,500.00', '$2,500.00', '$0.00'],\n",
       "       ['$7,500.00', '$15,000.00', '$7,500.00', '$7,500.00'],\n",
       "       ['$2,500.00', '$2,500.00', '$2,500.00', '$7,500.00', '$7,500.00'],\n",
       "       ['$10,000.00', '$10,000.00', '$10,000.00'],\n",
       "       ['$5,000.00', '$5,000.00', '$0.00'],\n",
       "       ['$500,000.00', '$100,000.00', '$250,000.00', '$100,000.00', '$100,000.00'],\n",
       "       ['$0.00', '$2,500.00', '$2,500.00', '$2,500.00', '$2,500.00'],\n",
       "       ['$5,000.00', '$5,000.00', '$5,000.00'],\n",
       "       ['$250,000.00', '$200,000.00', '$200,000.00'],\n",
       "       ['$2,500.00', '$2,500.00', '$0.00'],\n",
       "       ['$50,000.00', '$15,000.00', '$15,000.00'],\n",
       "       ['$20,000.00', '$20,000.00', '$20,000.00'],\n",
       "       ['$2,500.00', '$2,500.00', '$2,500.00'],\n",
       "       ['$50,000.00', '$50,000.00', '$50,000.00'],\n",
       "       ['$50,000.00', '$15,000.00', '$15,000.00', '$15,000.00'],\n",
       "       ['$6,000.00', '$6,000.00', '$0.00'],\n",
       "       ['$50,000.00', '$12,000.00', 'Remand to Municipal Court. Oral 1013. Defense motion to reduce bail is GRANTED. Bail lowered to $12,000 ,'],\n",
       "       ['$2,000,000.00', '$100,000.00', '$100,000.00'],\n",
       "       ['$0.00', '$1,000.00', '$1,000.00'],\n",
       "       ['$5,000.00', '$5,000.00', '$0.00'],\n",
       "       ['$0.00', '$5,000.00', '$5,000.00', '$2,500.00', '$2,500.00', '$1,500.00'],\n",
       "       ['$0.00', '$5,000.00', '$5,000.00'],\n",
       "       ['$0.00', '$1,500.00', '$1,500.00'],\n",
       "       ['$25,000.00', '$25,000.00', '$50,000.00', '$100,000.00', '$25,000.00'],\n",
       "       ['$0.00', '$2,500.00', '$2,500.00'],\n",
       "       ['$5,000.00', '$5,000.00', '$5,000.00', '$5,000.00'],\n",
       "       ['$5,000.00', '$5,000.00', '$5,000.00', '$5,000.00'],\n",
       "       ['$5,000.00', '$5,000.00', '$0.00'],\n",
       "       ['$10,000.00', '$10,000.00', '$10,000.00', '$10,000.00'],\n",
       "       ['$0.00', '$0.00', '$2,500.00'],\n",
       "       ['$10,000.00', '$7,500.00', '$7,500.00'],\n",
       "       ['$0.00', '$0.00', '$5,000.00'],\n",
       "       ['$175,000.00', '$75,000.00', '$75,000.00', '$75,000.00'],\n",
       "       ['$2,500.00', '$2,500.00', '$7,500.00'],\n",
       "       ['$2,500.00', '$2,500.00', '$5,000.00'],\n",
       "       ['$10,000.00', '$10,000.00', '$10,000.00', '$10,000.00', '$10,000.00'],\n",
       "       ['$5,000.00', '$5,000.00', '$5,000.00', '$5,000.00', '$0.00'],\n",
       "       ['$7,500.00', '$7,500.00', '$7,500 MONETARY, 10%, JUDGE ORDERED BAIL $7,500 SOB'],\n",
       "       ['$0.00', '$5,000.00', '$5,000.00'],\n",
       "       ['$5,000.00', '$5,000.00', '$5,000.00', '$5,000.00', '$5,000.00', '$7,500.00', '$7,500.00', '$7,500.00', '$7,500.00', '$7,500.00', '$0.00'],\n",
       "       ['$5,000.00', '$5,000.00', '$5,000.00'],\n",
       "       ['$5,000.00', '$5,000.00', '$0.00'],\n",
       "       ['$0.00', '$1,000.00', '$300.00', '$300.00'],\n",
       "       ['$0.00', '$7,500.00', '$7,500.00', '$1,000.00'],\n",
       "       ['$5,000.00', '$5,000.00', '$5,000.00', '$5,000.00'],\n",
       "       ['$3,500.00', '$3,800.00', '$3,800.00', '$4,000.00'],\n",
       "       ['$3,500.00', '$3,500.00', '$5,000.00'],\n",
       "       ['$7,500.00', '$7,500.00', '$7,500.00', '$50,000.00'],\n",
       "       ['$5,000.00', '$5,000.00', '$5,000.00', '$5,000.00'],\n",
       "       ['$5,000.00', '$5,000.00', '$5,000.00'],\n",
       "       ['$1,000.00', '$1,000.00', '$1,000.00', '$0.00'],\n",
       "       ['$75,000.00', '$50,000.00', '$25,000.00'],\n",
       "       ['$2,500.00', '$2,500.00', '$2,500.00'],\n",
       "       ['$150,000.00', '$20,000.00', '$20,000.00'],\n",
       "       ['$200,000.00', '$25,000.00', '$25,000.00'],\n",
       "       ['$2,500.00', '$2,500.00', '$2,500.00', '$2,500.00', '$0.00'],\n",
       "       ['$0.00', '$2,000.00', '$7,500.00'],\n",
       "       ['$25,000.00', '$10,000.00', '$10,000.00', '$10,000.00'],\n",
       "       ['$7,500.00', '$7,500.00', '$7,500.00', '$7,500.00', '$7,500.00'],\n",
       "       ['$5,000.00', '$5,300.00', '$5,300.00'],\n",
       "       ['$1,000.00', '$1,000.00', '$1,000.00', '$1,000.00', '$0.00', '$3,500.00'],\n",
       "       ['$0.00', '$2,500.00', '$2,500.00'],\n",
       "       ['$2,500.00', '$2,500.00', '$0.00'],\n",
       "       ['$2,500.00', '$2,500.00', '$2,500.00'],\n",
       "       ['$2,500.00', '$2,500.00', '$5,000.00', '$5,000.00', '$5,000.00', '$10,000.00', '$10,000.00', '$10,000.00'],\n",
       "       ['$5,000.00', '$5,000.00', '$0.00'],\n",
       "       ['$1,500.00', '$1,500.00', '$0.00'],\n",
       "       ['$15,000.00', '$15,000.00', '$15,000.00', '$7,500.00', '$7,500.00'],\n",
       "       ['$5,000.00', '$5,000.00', '$2,500.00', '$2,500.00', '$5,000.00'],\n",
       "       ['$0.00', '$0.00', '$2,500.00'],\n",
       "       ['$2,500.00', '$2,500.00', '$5,000.00'],\n",
       "       ['$1,500.00', '$1,500.00', '$0.00', '$1,500.00'],\n",
       "       ['$6,700.00', '$6,700.00', '$6,700.00'],\n",
       "       ['$7,500.00', '$10,000.00', '$10,000.00', '$0.00', '$7,500.00', '$10,000.00'],\n",
       "       ['$1,500.00', '$1,500.00', '$5,000.00', '$5,000.00', '$5,000.00'],\n",
       "       ['$2,500.00', '$2,500.00', '$0.00'],\n",
       "       ['$100,000.00', '$35,000.00', '$35,000.00'],\n",
       "       ['$35,000.00', '$5,000.00', '$5,000.00'],\n",
       "       ['$2,500.00', '$2,500.00', '$2,500.00', '$5,000.00'],\n",
       "       ['$2,500.00', '$2,500.00', '$2,500.00', '$5,000.00'],\n",
       "       ['$2,500.00', '$2,500.00', '$2,500.00', '$5,000.00'],\n",
       "       ['$0.00', '$5,000.00', '$5,000.00', '$0.00'],\n",
       "       ['$250,000.00', '$150,000.00', '$12,000.00'],\n",
       "       ['$10,000.00', '$50,000.00', '$50,000.00', '$10,000.00'],\n",
       "       ['$5,000.00', '$2,500.00', '$2,500.00'],\n",
       "       ['$50,000.00', '$50,000.00', '$50,300.00'],\n",
       "       ['$50,000.00', '$35,000.00', '$20,000.00', '$20,000.00'],\n",
       "       ['$3,000.00', '$3,000.00', '$3,000.00', '$3,000.00'],\n",
       "       ['$5,000.00', '$5,000.00', '$5,000.00', '$5,000.00', '$7,500.00', '$7,500.00', '$5,000.00'],\n",
       "       ['$1,000.00', '$1,000.00', '$10,000.00', '$10,000.00', '$10,000.00'],\n",
       "       ['$35,000.00', '$35,000.00', '$100,000.00'],\n",
       "       ['$15,000.00', '$5,000.00', 'BAIL ORIGINALLY $15,000 MONETARY, 10%, JUDGE GRANTED', 'BAIL REDUCED TO $5,000 MONETARY, 10%'],\n",
       "       ['$0.00', '$0.00', '$0.00'],\n",
       "       ['$2,500.00', '$2,500.00', '$2,500.00', '$10,000.00', '$0.00'],\n",
       "       ['$10,000,000.00', '$50,000.00', '$50,000.00'],\n",
       "       ['$0.00', '$0.00', '$7,500.00'],\n",
       "       ['$100,000.00', '$200,000.00', '$200,000.00'],\n",
       "       ['$150,000.00', '$50,000.00', '$50,000.00'],\n",
       "       ['$0.00', '$10,000.00', '$10,000.00', '$15,000.00'],\n",
       "       ['$100,000.00', '$115,000.00', '$115,000.00', '$100,000.00'],\n",
       "       ['$100,000.00', '$100,000.00', '$115,000.00', '$115,000.00'],\n",
       "       ['$6,700.00', '$6,700.00', '$2,000.00'],\n",
       "       ['$5,000.00', '$5,000.00', '$5,000.00'],\n",
       "       ['$20,000.00', '$3,000.00', '$3,000.00'],\n",
       "       ['$1,000.00', '$1,000.00', '$0.00', '$2,500.00'],\n",
       "       ['$2,500.00', '$2,500.00', '$0.00', '$10,000.00'],\n",
       "       ['$2,500.00', '$2,500.00', '$0.00'],\n",
       "       ['$75,000.00', '$150,000.00', '$150,000.00'],\n",
       "       ['$10,000.00', '$10,000.00', '$15,000.00', '$15,000.00', '$10,000.00'],\n",
       "       ['$1,000.00', '$1,000.00', '$2,500.00'],\n",
       "       ['$0.00', '$2,500.00', '$2,500.00'],\n",
       "       ['$1,500.00', '$1,500.00', '$5,000.00'],\n",
       "       ['$750,000.00', '$50,000.00', '$50,000.00'],\n",
       "       ['$750,000.00', '$50,000.00', '$50,000.00'],\n",
       "       ['$250.00', '$250.00', '$250.00'],\n",
       "       ['$2,500.00', '$2,500.00', '$2,500.00', '$2,500.00', '$2,500.00'],\n",
       "       ['$100,000.00', '$50,000.00', '$50,000.00'],\n",
       "       ['$20,000.00', '$20,000.00', '$5,000.00', '$5,000.00', '$5,000.00'],\n",
       "       ['$5,000.00', '$5,300.00', '$0.00'],\n",
       "       ['$9,000.00', '$9,000.00', '$9,000.00'],\n",
       "       ['$100,000.00', '$100,000.00', '$0.00', '$100,000.00'],\n",
       "       ['$0.00', '$5,000.00', '$5,000.00'],\n",
       "       ['$1,000.00', '$1,000.00', '$2,500.00', '$2,500.00']], dtype=object)"
      ]
     },
     "execution_count": 23,
     "metadata": {},
     "output_type": "execute_result"
    }
   ],
   "source": [
    "res_df[res_df['Bail'].apply(lambda x: len(x)) > 2]['Bail'].values"
   ]
  },
  {
   "cell_type": "code",
   "execution_count": null,
   "metadata": {
    "collapsed": true
   },
   "outputs": [],
   "source": []
  }
 ],
 "metadata": {
  "kernelspec": {
   "display_name": "Python 3",
   "language": "python",
   "name": "python3"
  },
  "language_info": {
   "codemirror_mode": {
    "name": "ipython",
    "version": 3
   },
   "file_extension": ".py",
   "mimetype": "text/x-python",
   "name": "python",
   "nbconvert_exporter": "python",
   "pygments_lexer": "ipython3",
   "version": "3.4.5"
  }
 },
 "nbformat": 4,
 "nbformat_minor": 2
}
